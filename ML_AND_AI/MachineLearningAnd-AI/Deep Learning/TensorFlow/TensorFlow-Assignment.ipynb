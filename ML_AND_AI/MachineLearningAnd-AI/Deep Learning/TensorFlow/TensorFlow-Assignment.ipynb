{
 "cells": [
  {
   "cell_type": "markdown",
   "id": "9238b676",
   "metadata": {},
   "source": [
    "# Module 2: Tensor Flow Assignment"
   ]
  },
  {
   "cell_type": "markdown",
   "id": "a9bb6a4f",
   "metadata": {},
   "source": [
    "### Tasks to be Done:\n",
    "    A. Shows how you can create a session in Tensor Flow\n",
    "    B. Define constants and perform computation such as addition and subtraction with those\n",
    "    constants using the session.\n",
    "    C. Print Hello World using the same\n",
    "    D. Create a simple Linear Equation y = mx+c in tensor flow, where m and c are variables\n",
    "    and x is a placeholder\n",
    "    a. Feed in a scalar value to x\n",
    "    b. Feed in a vector of 5 values to x\n",
    "    c. Choose arbitrary values for m and c"
   ]
  },
  {
   "cell_type": "code",
   "execution_count": 1,
   "id": "612df20b",
   "metadata": {
    "scrolled": true
   },
   "outputs": [
    {
     "name": "stdout",
     "output_type": "stream",
     "text": [
      "TensorFlow version: 2.13.0\n"
     ]
    }
   ],
   "source": [
    "import tensorflow as tf\n",
    "print(\"TensorFlow version:\", tf.__version__)"
   ]
  },
  {
   "cell_type": "code",
   "execution_count": 2,
   "id": "86b83b20",
   "metadata": {},
   "outputs": [],
   "source": [
    "mnist = tf.keras.datasets.mnist\n",
    "\n",
    "(x_train, y_train), (x_test, y_test) = mnist.load_data()\n",
    "x_train, x_test = x_train / 255.0, x_test / 255.0"
   ]
  },
  {
   "cell_type": "code",
   "execution_count": 3,
   "id": "58bb90a3",
   "metadata": {},
   "outputs": [],
   "source": [
    "model = tf.keras.models.Sequential([\n",
    "  tf.keras.layers.Flatten(input_shape=(28, 28)),\n",
    "  tf.keras.layers.Dense(128, activation='relu'),\n",
    "  tf.keras.layers.Dropout(0.2),\n",
    "  tf.keras.layers.Dense(10)\n",
    "])"
   ]
  },
  {
   "cell_type": "code",
   "execution_count": 4,
   "id": "5f67c542",
   "metadata": {},
   "outputs": [
    {
     "data": {
      "text/plain": [
       "array([[-0.408637  ,  0.2301855 ,  0.3146999 ,  0.4654606 ,  0.16602953,\n",
       "         0.11655945,  0.32452995, -0.12389992, -0.15349217,  0.30210897]],\n",
       "      dtype=float32)"
      ]
     },
     "execution_count": 4,
     "metadata": {},
     "output_type": "execute_result"
    }
   ],
   "source": [
    "predictions = model(x_train[:1]).numpy()\n",
    "predictions"
   ]
  },
  {
   "cell_type": "markdown",
   "id": "37d324b3",
   "metadata": {},
   "source": [
    "A. Shows how you can create a session in Tensor Flow"
   ]
  },
  {
   "cell_type": "code",
   "execution_count": 5,
   "id": "3fc6041f",
   "metadata": {},
   "outputs": [
    {
     "data": {
      "text/plain": [
       "<tensorflow.python.client.session.Session at 0x26015c45090>"
      ]
     },
     "execution_count": 5,
     "metadata": {},
     "output_type": "execute_result"
    }
   ],
   "source": [
    "tf.compat.v1.Session(\n",
    "    target='', graph=None, config=None\n",
    ")"
   ]
  },
  {
   "cell_type": "markdown",
   "id": "6c9c4148",
   "metadata": {},
   "source": [
    "B. Define constants and perform computation such as addition and subtraction with those constants using the session."
   ]
  },
  {
   "cell_type": "code",
   "execution_count": 6,
   "id": "4dd4f52c",
   "metadata": {},
   "outputs": [
    {
     "name": "stdout",
     "output_type": "stream",
     "text": [
      "Addition of a and b: 30.0\n",
      "Substraction of a and b: 10.0\n",
      "Multiplication of a and b: 200.0\n",
      "Division of a and b: 2.0\n"
     ]
    }
   ],
   "source": [
    "tf.compat.v1.disable_eager_execution() # need to disable eager in TF2.x\n",
    "# Build a graph.\n",
    "a = tf.constant(20.0)\n",
    "b = tf.constant(10.0)\n",
    "\n",
    "# Launch the graph in a session.\n",
    "sess = tf.compat.v1.Session()\n",
    "\n",
    "# Addition of\n",
    "def calc(a, b, operation=\"+\"):\n",
    "    if operation ==\"+\":\n",
    "        c = a + b\n",
    "    elif operation ==\"-\":\n",
    "        c = a - b \n",
    "    elif operation ==\"*\":\n",
    "        c = a * b\n",
    "    elif operation ==\"\\\\\":\n",
    "        c = tf.math.divide(x=a,y=b, name=None)\n",
    "    return c\n",
    "\n",
    "    \n",
    "c = calc(a,b,operation=\"+\")\n",
    "# Evaluate the tensor `c`.\n",
    "print(\"Addition of a and b:\",sess.run(c)) \n",
    "\n",
    "c = calc(a,b,operation=\"-\")\n",
    "# Evaluate the tensor `c`.\n",
    "print(\"Substraction of a and b:\",sess.run(c)) \n",
    "\n",
    "c = calc(a,b,operation=\"*\")\n",
    "# Evaluate the tensor `c`.\n",
    "print(\"Multiplication of a and b:\",sess.run(c)) \n",
    "\n",
    "c = calc(a,b,operation=\"\\\\\")\n",
    "# Evaluate the tensor `c`.\n",
    "print(\"Division of a and b:\",sess.run(c)) "
   ]
  },
  {
   "cell_type": "markdown",
   "id": "3fe8fe3b",
   "metadata": {},
   "source": [
    "C. Print Hello World using the same"
   ]
  },
  {
   "cell_type": "code",
   "execution_count": 7,
   "id": "b528bd8c",
   "metadata": {},
   "outputs": [
    {
     "name": "stdout",
     "output_type": "stream",
     "text": [
      "Hello World!\n"
     ]
    },
    {
     "data": {
      "text/plain": [
       "<bound method BaseSession.close of <tensorflow.python.client.session.Session object at 0x000002601388F350>>"
      ]
     },
     "execution_count": 7,
     "metadata": {},
     "output_type": "execute_result"
    }
   ],
   "source": [
    "sess = tf.compat.v1.Session()\n",
    "hello = tf.constant('Hello World!')\n",
    "output = sess.run(hello)\n",
    "print(output.decode('utf8')) \n",
    "sess.close"
   ]
  },
  {
   "cell_type": "code",
   "execution_count": 8,
   "id": "29a9effe",
   "metadata": {},
   "outputs": [
    {
     "name": "stdout",
     "output_type": "stream",
     "text": [
      "b'Hello World!'\n"
     ]
    }
   ],
   "source": [
    "# import tensorflow as tf\n",
    "# Create TensorFlow object called hello_constant\n",
    "hello_constant = tf.constant('Hello World!')\n",
    "with tf.compat.v1.Session() as sess:\n",
    "    # Run the tf.constant operation in the session\n",
    "    output = sess.run(hello_constant)\n",
    "    print(output)"
   ]
  },
  {
   "cell_type": "code",
   "execution_count": 9,
   "id": "0c7bdaea",
   "metadata": {},
   "outputs": [],
   "source": [
    "############# TEST"
   ]
  },
  {
   "cell_type": "markdown",
   "id": "7b2c1894",
   "metadata": {},
   "source": [
    "### D. Create a simple Linear Equation y = mx+c in tensor flow, where m and c are variables and x is a placeholder\n",
    "    a. Feed in a scalar value to x\n",
    "    b. Feed in a vector of 5 values to x\n",
    "    c. Choose arbitrary values for m and c"
   ]
  },
  {
   "cell_type": "code",
   "execution_count": 11,
   "id": "665a3388",
   "metadata": {},
   "outputs": [
    {
     "data": {
      "text/plain": [
       "<Axes: xlabel='X', ylabel='Y'>"
      ]
     },
     "execution_count": 11,
     "metadata": {},
     "output_type": "execute_result"
    },
    {
     "data": {
      "image/png": "[encoded data removed]",
      "text/plain": [
       "<Figure size 640x480 with 1 Axes>"
      ]
     },
     "metadata": {},
     "output_type": "display_data"
    }
   ],
   "source": [
    "import numpy as np\n",
    "import pandas as pd \n",
    "import matplotlib.pyplot as plt\n",
    "%matplotlib inline\n",
    "import tensorflow as tf\n",
    "\n",
    "# a. Feed in a scalar value to x\n",
    "# b. Feed in a vector of 5 values to x\n",
    "x = np.linspace(0,5,10000)\n",
    "m = 0.5\n",
    "c = 5\n",
    "\n",
    "# c. Choose arbitrary values for m and c\n",
    "y = m * x + c \n",
    "\n",
    "# Ploting the equation\n",
    "x_df = pd.DataFrame(data = x, columns = [\"X\"])\n",
    "y_df = pd.DataFrame(data = y, columns = [\"Y\"])\n",
    "\n",
    "data = pd.concat([x_df, y_df], axis = 1)\n",
    "data.plot(kind = 'scatter', x = 'X', y = 'Y')"
   ]
  }
 ],
 "metadata": {
  "kernelspec": {
   "display_name": "Python 3 (ipykernel)",
   "language": "python",
   "name": "python3"
  },
  "language_info": {
   "codemirror_mode": {
    "name": "ipython",
    "version": 3
   },
   "file_extension": ".py",
   "mimetype": "text/x-python",
   "name": "python",
   "nbconvert_exporter": "python",
   "pygments_lexer": "ipython3",
   "version": "3.11.4"
  }
 },
 "nbformat": 4,
 "nbformat_minor": 5
}
