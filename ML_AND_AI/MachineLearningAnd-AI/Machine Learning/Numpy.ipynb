{
 "cells": [
  {
   "cell_type": "code",
   "execution_count": 2,
   "id": "0188672a",
   "metadata": {},
   "outputs": [
    {
     "data": {
      "text/plain": [
       "array([1, 2, 3, 4])"
      ]
     },
     "execution_count": 2,
     "metadata": {},
     "output_type": "execute_result"
    }
   ],
   "source": [
    "import numpy as np\n",
    " \n",
    "arr = [1,2,3,4]        #python list\n",
    "numpy_arr = np.array(arr)    #numpy array\n",
    "numpy_arr"
   ]
  },
  {
   "cell_type": "code",
   "execution_count": 11,
   "id": "abb83ed0",
   "metadata": {},
   "outputs": [
    {
     "name": "stdout",
     "output_type": "stream",
     "text": [
      "1 2 4 7\n"
     ]
    }
   ],
   "source": [
    "# Two-Dimensional array\n",
    "import numpy as np\n",
    "\n",
    "arr = [[1,2,3,4],[4,5,6,7]]\n",
    "numpy_arr = np.array(arr)\n",
    "print(numpy_arr[0][0],numpy_arr[0][1],numpy_arr[0][3],numpy_arr[1][3])"
   ]
  },
  {
   "cell_type": "code",
   "execution_count": 23,
   "id": "f0abe5d4",
   "metadata": {},
   "outputs": [
    {
     "name": "stdout",
     "output_type": "stream",
     "text": [
      "1st column, 1st row - 1\n",
      "2nd column, 3rd row - 6\n",
      "4th column, 4th row - 10\n",
      "1st column, 1st row - 7\n",
      "[[[ 1  2  3  4]\n",
      "  [ 4  5  6  7]\n",
      "  [ 7  8  9 10]]]\n"
     ]
    }
   ],
   "source": [
    "# Three-Dimensional array\n",
    "arr = [[[1,2,3,4],[4,5,6,7],[7,8,9,10]]]\n",
    "numpy_arr = np.array(arr)\n",
    "print(\"1st column, 1st row -\", numpy_arr[0][0][0])\n",
    "print(\"2nd column, 3rd row -\", numpy_arr[0][1][2])\n",
    "print(\"4th column, 4th row -\", numpy_arr[0][2][3])\n",
    "print(\"1st column, 1st row -\", numpy_arr[0,1,3])\n",
    "print(numpy_arr)"
   ]
  },
  {
   "cell_type": "code",
   "execution_count": 32,
   "id": "50b68cdc",
   "metadata": {},
   "outputs": [
    {
     "name": "stdout",
     "output_type": "stream",
     "text": [
      "[[[ 1  2  3  4]\n",
      "  [ 4  5  6  7]\n",
      "  [ 7  8  9 10]]\n",
      "\n",
      " [[11 12 13 14]\n",
      "  [14 15 16 17]\n",
      "  [17 18 19 20]]]\n",
      "1st column, 1st row - 17\n"
     ]
    }
   ],
   "source": [
    "arr = [[[1,2,3,4],[4,5,6,7],[7,8,9,10]],[[11,12,13,14],[14,15,16,17],[17,18,19,20]]]\n",
    "numpy_arr = np.array(arr)\n",
    "print(numpy_arr)\n",
    "print(\"1st column, 1st row -\", numpy_arr[1][1][3])\n",
    "# print(\"2nd column, 3rd row -\", numpy_arr[0][1][2])\n",
    "# print(\"4th column, 4th row -\", numpy_arr[0][2][3])\n",
    "# print(\"1st column, 1st row -\", numpy_arr[0,1,3])"
   ]
  },
  {
   "cell_type": "code",
   "execution_count": 34,
   "id": "24b39692",
   "metadata": {},
   "outputs": [
    {
     "name": "stdout",
     "output_type": "stream",
     "text": [
      "int32\n",
      "<U12\n",
      "|S1\n"
     ]
    }
   ],
   "source": [
    "# 6. How do you find the data type of the elements stored in the NumPy arrays?\n",
    "import numpy as np\n",
    "\n",
    "arr1 = np.array([1, 2, 3, 4])\n",
    "arr2 = np.array(['I', 'love', 'Interviewbit'])    # Stored as Unicode characters with length of characters ranging from 1 to 12\n",
    "arr3 = np.array([1, 2, 3, 4], dtype='S')        # Creating numpy array of defined type string\n",
    "\n",
    "print(arr1.dtype)\n",
    "print(arr2.dtype)\n",
    "print(arr3.dtype)"
   ]
  },
  {
   "cell_type": "code",
   "execution_count": 37,
   "id": "982df18e",
   "metadata": {},
   "outputs": [
    {
     "name": "stdout",
     "output_type": "stream",
     "text": [
      "[6 4 2 1]\n"
     ]
    }
   ],
   "source": [
    "# 7. How can you reverse a NumPy array?\n",
    "import numpy as np\n",
    "\n",
    "# create numpy array\n",
    "arr = np.array([1, 2, 4, 6])\n",
    "\n",
    "# To reverse array\n",
    "reverse_arr = arr[::-1]\n",
    "print(reverse_arr)"
   ]
  },
  {
   "cell_type": "code",
   "execution_count": 38,
   "id": "fbe9a48d",
   "metadata": {},
   "outputs": [
    {
     "name": "stdout",
     "output_type": "stream",
     "text": [
      "[6 5 4 2 1]\n"
     ]
    }
   ],
   "source": [
    "# \n",
    "# Method 2: flipud function: This function is provided by NumPy to reverse the NumPy array. Let us see the below example about its usage.\n",
    "\n",
    "\n",
    "import numpy as np\n",
    "\n",
    "# create numpy array\n",
    "arr = np.array([1, 2, 4, 5, 6])\n",
    "\n",
    "#flipud method for reversing\n",
    "reverse_arr = np.flipud(arr)\n",
    "print(reverse_arr)"
   ]
  },
  {
   "cell_type": "markdown",
   "id": "172b4fbc",
   "metadata": {},
   "source": [
    "# 8. How is np.mean() different from np.average() in NumPy?\n",
    "    np.mean() method calculates the arithmetic mean and provides additional options for input and results. For example, it has the option to specify what data types have to be taken, where the result has to be placed etc.\n",
    "    np.average() computes the weighted average if the weights parameter is specified. In the case of weighted average, instead of considering that each data point is contributing equally to the final average, it considers that some data points have more weightage than the others (unequal contribution)."
   ]
  },
  {
   "cell_type": "code",
   "execution_count": 47,
   "id": "1a6c5cdd",
   "metadata": {},
   "outputs": [
    {
     "name": "stdout",
     "output_type": "stream",
     "text": [
      "1.7\n"
     ]
    }
   ],
   "source": [
    "import numpy as np\n",
    "arr = np.array([1, 2, 1, 3, 5, 0, 0, 0, 2, 3])\n",
    "result = np.mean(arr)\n",
    "print(result)"
   ]
  },
  {
   "cell_type": "code",
   "execution_count": 48,
   "id": "6bafa9a2",
   "metadata": {},
   "outputs": [
    {
     "name": "stdout",
     "output_type": "stream",
     "text": [
      "1.7\n"
     ]
    }
   ],
   "source": [
    "result = np.average(arr)\n",
    "print(result)"
   ]
  },
  {
   "cell_type": "markdown",
   "id": "95f762b6",
   "metadata": {},
   "source": [
    "# 9. How do you count the frequency of a given positive value appearing in the NumPy array?\n",
    "    We can make use of the bincount() function to compute the number of times a given value is there in the array. This function accepts only positive integers and boolean expressions as the arguments."
   ]
  },
  {
   "cell_type": "code",
   "execution_count": 42,
   "id": "09c2c1da",
   "metadata": {},
   "outputs": [
    {
     "name": "stdout",
     "output_type": "stream",
     "text": [
      "[3 2 2 2 0 1]\n"
     ]
    }
   ],
   "source": [
    "import numpy as np\n",
    "arr = np.array([1, 2, 1, 3, 5, 0, 0, 0, 2, 3])\n",
    "result = np.bincount(arr)\n",
    "print(result)"
   ]
  }
 ],
 "metadata": {
  "kernelspec": {
   "display_name": "Python 3 (ipykernel)",
   "language": "python",
   "name": "python3"
  },
  "language_info": {
   "codemirror_mode": {
    "name": "ipython",
    "version": 3
   },
   "file_extension": ".py",
   "mimetype": "text/x-python",
   "name": "python",
   "nbconvert_exporter": "python",
   "pygments_lexer": "ipython3",
   "version": "3.11.2"
  }
 },
 "nbformat": 4,
 "nbformat_minor": 5
}
