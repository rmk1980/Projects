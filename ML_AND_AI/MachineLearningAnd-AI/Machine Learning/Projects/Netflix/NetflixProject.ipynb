{
 "cells": [
  {
   "cell_type": "markdown",
   "id": "2710da54",
   "metadata": {},
   "source": [
    "# Capstone Project - Netflix Movie recommendation "
   ]
  },
  {
   "cell_type": "markdown",
   "id": "fa6a564d",
   "metadata": {},
   "source": [
    "# Problem Statement"
   ]
  },
  {
   "cell_type": "markdown",
   "id": "7bf22ac3",
   "metadata": {},
   "source": [
    "#### Recommendation Engines are the much needed manifestations of the desired Predictability of User Activity. Recommendation Engines move one step further and not only give information but put forth strategies to further increase users interaction with the platform."
   ]
  },
  {
   "cell_type": "markdown",
   "id": "23b6501c",
   "metadata": {},
   "source": [
    "#### In today’s world OTT platform and Streaming Services have taken up a big chunk in the Retail and Entertainment industry. Organizations like Netflix, Amazon etc. analyse User Activity Pattern’s and suggest products that better suit the user needs and choices."
   ]
  },
  {
   "cell_type": "markdown",
   "id": "d21e8016",
   "metadata": {},
   "source": [
    "#### For the purpose of this Project we will be creating one such Recommendation Engine from the ground up, where every single user, based on there area of interest and ratings, would be recommended a list of movies that are best suited for them."
   ]
  },
  {
   "cell_type": "markdown",
   "id": "09e5c4f0",
   "metadata": {},
   "source": [
    "# Dataset Information"
   ]
  },
  {
   "cell_type": "markdown",
   "id": "698eaadb",
   "metadata": {},
   "source": [
    "#### 1. ID Contains the separate keys for customer and movies.\n",
    "#### 2. Rating A section contains the user ratings for all the movies.\n",
    "#### 3. Genre Highlights the category of the movie.\n",
    "#### 4. Movie Name Name of the movie with respect to the movie id."
   ]
  },
  {
   "cell_type": "markdown",
   "id": "66a0bf27",
   "metadata": {},
   "source": [
    "# Objective"
   ]
  },
  {
   "cell_type": "markdown",
   "id": "ecd416cb",
   "metadata": {},
   "source": [
    "#### 1. Find out the list of most popular and liked genre\n",
    "#### 2. Create Model that finds the best suited Movie for one user in every genre.\n",
    "#### 3. Find what Genre Movies have received the best and worst ratings based on User Rating."
   ]
  },
  {
   "cell_type": "code",
   "execution_count": 1,
   "id": "dadfc7fb-2db4-4ebf-a520-f3ddffdca745",
   "metadata": {
    "tags": []
   },
   "outputs": [],
   "source": [
    "import zipfile\n",
    "import os\n",
    "from datetime import datetime\n",
    "import numpy as np\n",
    "import pandas as pd\n",
    "from surprise import Reader\n",
    "from surprise import Dataset\n",
    "from surprise.model_selection import cross_validate\n",
    "from surprise import NormalPredictor\n",
    "from surprise import KNNBasic\n",
    "from surprise import KNNWithMeans\n",
    "from surprise import KNNWithZScore\n",
    "from surprise import KNNBaseline\n",
    "from surprise import SVD\n",
    "from surprise import BaselineOnly\n",
    "from surprise import SVDpp\n",
    "from surprise import NMF\n",
    "from surprise import SlopeOne\n",
    "from surprise import CoClustering\n",
    "from surprise.accuracy import rmse\n",
    "from surprise import accuracy\n",
    "from surprise.model_selection import train_test_split\n",
    "from surprise.model_selection import GridSearchCV\n",
    "\n",
    "import warnings\n",
    "warnings.filterwarnings(\"ignore\")\n",
    "import matplotlib\n",
    "matplotlib.use('nbagg')\n",
    "\n",
    "import matplotlib.pyplot as plt\n",
    "plt.rcParams.update({'figure.max_open_warning': 0})\n"
   ]
  },
  {
   "cell_type": "markdown",
   "id": "245e2785",
   "metadata": {},
   "source": [
    "#### Created a Method getNetflixData() to read the netflix data and restructure the database and return the database."
   ]
  },
  {
   "cell_type": "code",
   "execution_count": 2,
   "id": "d7988af0",
   "metadata": {},
   "outputs": [],
   "source": [
    "def getNetflixData(zifilename,filename,usecols = [0,1,2], names=['Movie_id', 'User_id','Rating']):\n",
    "    start = datetime.now()\n",
    "    if not os.path.isfile('Netflix_data.csv'):\n",
    "        Netflix_data = open('Netflix_data.csv', mode='w')\n",
    "        movie_id =\"\"\n",
    "        row=[]\n",
    "#         with zipfile.ZipFile('combined_data_1.txt.zip') as z:\n",
    "        with zipfile.ZipFile(zifilename) as z:\n",
    "            with z.open(filename) as f:\n",
    "                for line in f: \n",
    "                    line = str(line.decode(\"utf-8\") )\n",
    "                    del row[:] # you don't have to do this.\n",
    "                    line = line.strip()\n",
    "                    if line.endswith(':'):\n",
    "                        # All below are ratings for this movie, until another movie appears.\n",
    "                        movie_id = line.replace(':', '')\n",
    "                    else:\n",
    "                        row = [x for x in line.split(',')]\n",
    "                        row.insert(0, movie_id)\n",
    "                        Netflix_data.write(','.join(row))\n",
    "                        Netflix_data.write('\\n')\n",
    "        Netflix_data.close()\n",
    "    print('Time taken to creating Netflix_data file:', datetime.now() - start)\n",
    "    Netflix_df = pd.read_csv('Netflix_data.csv', sep=',',usecols =usecols,names=names)\n",
    "#     Netflix_df.date = pd.to_datetime(Netflix_df.date)\n",
    "    return Netflix_df\n",
    "   \n"
   ]
  },
  {
   "cell_type": "markdown",
   "id": "2cc40f32",
   "metadata": {},
   "source": [
    "#### Called method getNetflixData() to get netflix data frame."
   ]
  },
  {
   "cell_type": "code",
   "execution_count": 3,
   "id": "b3157490",
   "metadata": {},
   "outputs": [
    {
     "name": "stdout",
     "output_type": "stream",
     "text": [
      "Time taken to creating Netflix_data file: 0:01:54.338897\n"
     ]
    }
   ],
   "source": [
    "netflix_df = getNetflixData(zifilename='combined_data_1.txt.zip',filename=\"combined_data_1.txt\", usecols = [0,1,2], names=['Movie_id', 'User_id','Rating'])"
   ]
  },
  {
   "cell_type": "code",
   "execution_count": 4,
   "id": "3c10eb1a",
   "metadata": {
    "scrolled": true
   },
   "outputs": [
    {
     "data": {
      "text/html": [
       "<div>\n",
       "<style scoped>\n",
       "    .dataframe tbody tr th:only-of-type {\n",
       "        vertical-align: middle;\n",
       "    }\n",
       "\n",
       "    .dataframe tbody tr th {\n",
       "        vertical-align: top;\n",
       "    }\n",
       "\n",
       "    .dataframe thead th {\n",
       "        text-align: right;\n",
       "    }\n",
       "</style>\n",
       "<table border=\"1\" class=\"dataframe\">\n",
       "  <thead>\n",
       "    <tr style=\"text-align: right;\">\n",
       "      <th></th>\n",
       "      <th>Movie_id</th>\n",
       "      <th>User_id</th>\n",
       "      <th>Rating</th>\n",
       "    </tr>\n",
       "  </thead>\n",
       "  <tbody>\n",
       "    <tr>\n",
       "      <th>0</th>\n",
       "      <td>1</td>\n",
       "      <td>1488844</td>\n",
       "      <td>3</td>\n",
       "    </tr>\n",
       "    <tr>\n",
       "      <th>1</th>\n",
       "      <td>1</td>\n",
       "      <td>822109</td>\n",
       "      <td>5</td>\n",
       "    </tr>\n",
       "    <tr>\n",
       "      <th>2</th>\n",
       "      <td>1</td>\n",
       "      <td>885013</td>\n",
       "      <td>4</td>\n",
       "    </tr>\n",
       "    <tr>\n",
       "      <th>3</th>\n",
       "      <td>1</td>\n",
       "      <td>30878</td>\n",
       "      <td>4</td>\n",
       "    </tr>\n",
       "    <tr>\n",
       "      <th>4</th>\n",
       "      <td>1</td>\n",
       "      <td>823519</td>\n",
       "      <td>3</td>\n",
       "    </tr>\n",
       "  </tbody>\n",
       "</table>\n",
       "</div>"
      ],
      "text/plain": [
       "   Movie_id  User_id  Rating\n",
       "0         1  1488844       3\n",
       "1         1   822109       5\n",
       "2         1   885013       4\n",
       "3         1    30878       4\n",
       "4         1   823519       3"
      ]
     },
     "execution_count": 4,
     "metadata": {},
     "output_type": "execute_result"
    }
   ],
   "source": [
    "netflix_df.head()"
   ]
  },
  {
   "cell_type": "code",
   "execution_count": 5,
   "id": "eed570e9",
   "metadata": {},
   "outputs": [
    {
     "data": {
      "text/html": [
       "<div>\n",
       "<style scoped>\n",
       "    .dataframe tbody tr th:only-of-type {\n",
       "        vertical-align: middle;\n",
       "    }\n",
       "\n",
       "    .dataframe tbody tr th {\n",
       "        vertical-align: top;\n",
       "    }\n",
       "\n",
       "    .dataframe thead th {\n",
       "        text-align: right;\n",
       "    }\n",
       "</style>\n",
       "<table border=\"1\" class=\"dataframe\">\n",
       "  <thead>\n",
       "    <tr style=\"text-align: right;\">\n",
       "      <th></th>\n",
       "      <th>Movie_id</th>\n",
       "      <th>User_id</th>\n",
       "      <th>Rating</th>\n",
       "    </tr>\n",
       "  </thead>\n",
       "  <tbody>\n",
       "    <tr>\n",
       "      <th>24053759</th>\n",
       "      <td>4499</td>\n",
       "      <td>2591364</td>\n",
       "      <td>2</td>\n",
       "    </tr>\n",
       "    <tr>\n",
       "      <th>24053760</th>\n",
       "      <td>4499</td>\n",
       "      <td>1791000</td>\n",
       "      <td>2</td>\n",
       "    </tr>\n",
       "    <tr>\n",
       "      <th>24053761</th>\n",
       "      <td>4499</td>\n",
       "      <td>512536</td>\n",
       "      <td>5</td>\n",
       "    </tr>\n",
       "    <tr>\n",
       "      <th>24053762</th>\n",
       "      <td>4499</td>\n",
       "      <td>988963</td>\n",
       "      <td>3</td>\n",
       "    </tr>\n",
       "    <tr>\n",
       "      <th>24053763</th>\n",
       "      <td>4499</td>\n",
       "      <td>1704416</td>\n",
       "      <td>3</td>\n",
       "    </tr>\n",
       "  </tbody>\n",
       "</table>\n",
       "</div>"
      ],
      "text/plain": [
       "          Movie_id  User_id  Rating\n",
       "24053759      4499  2591364       2\n",
       "24053760      4499  1791000       2\n",
       "24053761      4499   512536       5\n",
       "24053762      4499   988963       3\n",
       "24053763      4499  1704416       3"
      ]
     },
     "execution_count": 5,
     "metadata": {},
     "output_type": "execute_result"
    }
   ],
   "source": [
    "netflix_df.tail()"
   ]
  },
  {
   "cell_type": "markdown",
   "id": "2700b666",
   "metadata": {},
   "source": [
    "#### Getting Movie title data in a data frame."
   ]
  },
  {
   "cell_type": "code",
   "execution_count": 6,
   "id": "7f3142c9",
   "metadata": {},
   "outputs": [],
   "source": [
    "movie_title_df = pd.read_csv(\"movie_titles.csv\",  encoding='ISO-8859-1', header=None, usecols=[0,1,2], names=['Movie_id','Year','Name' ])\n"
   ]
  },
  {
   "cell_type": "code",
   "execution_count": 7,
   "id": "bbdcfdb6",
   "metadata": {},
   "outputs": [
    {
     "data": {
      "text/html": [
       "<div>\n",
       "<style scoped>\n",
       "    .dataframe tbody tr th:only-of-type {\n",
       "        vertical-align: middle;\n",
       "    }\n",
       "\n",
       "    .dataframe tbody tr th {\n",
       "        vertical-align: top;\n",
       "    }\n",
       "\n",
       "    .dataframe thead th {\n",
       "        text-align: right;\n",
       "    }\n",
       "</style>\n",
       "<table border=\"1\" class=\"dataframe\">\n",
       "  <thead>\n",
       "    <tr style=\"text-align: right;\">\n",
       "      <th></th>\n",
       "      <th>Movie_id</th>\n",
       "      <th>Year</th>\n",
       "      <th>Name</th>\n",
       "    </tr>\n",
       "  </thead>\n",
       "  <tbody>\n",
       "    <tr>\n",
       "      <th>0</th>\n",
       "      <td>1</td>\n",
       "      <td>2003.0</td>\n",
       "      <td>Dinosaur Planet</td>\n",
       "    </tr>\n",
       "    <tr>\n",
       "      <th>1</th>\n",
       "      <td>2</td>\n",
       "      <td>2004.0</td>\n",
       "      <td>Isle of Man TT 2004 Review</td>\n",
       "    </tr>\n",
       "    <tr>\n",
       "      <th>2</th>\n",
       "      <td>3</td>\n",
       "      <td>1997.0</td>\n",
       "      <td>Character</td>\n",
       "    </tr>\n",
       "    <tr>\n",
       "      <th>3</th>\n",
       "      <td>4</td>\n",
       "      <td>1994.0</td>\n",
       "      <td>Paula Abdul's Get Up &amp; Dance</td>\n",
       "    </tr>\n",
       "    <tr>\n",
       "      <th>4</th>\n",
       "      <td>5</td>\n",
       "      <td>2004.0</td>\n",
       "      <td>The Rise and Fall of ECW</td>\n",
       "    </tr>\n",
       "  </tbody>\n",
       "</table>\n",
       "</div>"
      ],
      "text/plain": [
       "   Movie_id    Year                          Name\n",
       "0         1  2003.0               Dinosaur Planet\n",
       "1         2  2004.0    Isle of Man TT 2004 Review\n",
       "2         3  1997.0                     Character\n",
       "3         4  1994.0  Paula Abdul's Get Up & Dance\n",
       "4         5  2004.0      The Rise and Fall of ECW"
      ]
     },
     "execution_count": 7,
     "metadata": {},
     "output_type": "execute_result"
    }
   ],
   "source": [
    "movie_title_df.head()"
   ]
  },
  {
   "cell_type": "markdown",
   "id": "9ebb09dc",
   "metadata": {},
   "source": [
    "# 1.Find out the list of most popular and liked genre"
   ]
  },
  {
   "cell_type": "code",
   "execution_count": 8,
   "id": "e7bf6ffe",
   "metadata": {
    "tags": []
   },
   "outputs": [
    {
     "data": {
      "text/html": [
       "<div>\n",
       "<style scoped>\n",
       "    .dataframe tbody tr th:only-of-type {\n",
       "        vertical-align: middle;\n",
       "    }\n",
       "\n",
       "    .dataframe tbody tr th {\n",
       "        vertical-align: top;\n",
       "    }\n",
       "\n",
       "    .dataframe thead th {\n",
       "        text-align: right;\n",
       "    }\n",
       "</style>\n",
       "<table border=\"1\" class=\"dataframe\">\n",
       "  <thead>\n",
       "    <tr style=\"text-align: right;\">\n",
       "      <th></th>\n",
       "      <th>Movie_id</th>\n",
       "      <th>Year</th>\n",
       "      <th>Name</th>\n",
       "      <th>Total_review_count</th>\n",
       "    </tr>\n",
       "  </thead>\n",
       "  <tbody>\n",
       "    <tr>\n",
       "      <th>0</th>\n",
       "      <td>1905</td>\n",
       "      <td>2003.0</td>\n",
       "      <td>Pirates of the Caribbean: The Curse of the Bla...</td>\n",
       "      <td>193941</td>\n",
       "    </tr>\n",
       "  </tbody>\n",
       "</table>\n",
       "</div>"
      ],
      "text/plain": [
       "   Movie_id    Year                                               Name  \\\n",
       "0      1905  2003.0  Pirates of the Caribbean: The Curse of the Bla...   \n",
       "\n",
       "   Total_review_count  \n",
       "0              193941  "
      ]
     },
     "execution_count": 8,
     "metadata": {},
     "output_type": "execute_result"
    }
   ],
   "source": [
    "# most_like_gener = netflix_df[netflix_df['Rating']==netflix_df['Rating'].max()]\n",
    "most_like_gener = netflix_df.groupby(['Movie_id','Rating'])['Rating'].count()\n",
    "most_like_gener = most_like_gener.to_frame(name=\"Total_Rating_count\").reset_index()\n",
    "most_like_gener = most_like_gener.groupby(['Movie_id'])['Total_Rating_count'].sum()\n",
    "most_like_gener = most_like_gener.to_frame(name=\"Total_review_count\").reset_index()\n",
    "most_like_gener = most_like_gener[most_like_gener[\"Total_review_count\"]==most_like_gener[\"Total_review_count\"].max()]\n",
    "pd.merge(movie_title_df, most_like_gener, on=[\"Movie_id\",\"Movie_id\"])"
   ]
  },
  {
   "cell_type": "markdown",
   "id": "4623c5f4",
   "metadata": {},
   "source": [
    "#  Model building Start here "
   ]
  },
  {
   "cell_type": "markdown",
   "id": "215767ec",
   "metadata": {},
   "source": [
    "### Created a Method delLowestReviewedMovies() to clean data based on user rating volumns"
   ]
  },
  {
   "cell_type": "code",
   "execution_count": 9,
   "id": "9817e397",
   "metadata": {},
   "outputs": [],
   "source": [
    "def delLowestReviewedMovies(data, quantile_percent=0.7):\n",
    "    print('The original dataframe has: ', data.shape, 'shape')\n",
    "    ratings_movie_summary = data.groupby('Movie_id')['Rating'].agg(['count', 'mean', 'std'])\n",
    "    movie_benchmark = ratings_movie_summary[\"count\"].quantile(quantile_percent) \n",
    "    movie_benchmark = round(movie_benchmark)\n",
    "    dataset_cust_summary=data.groupby('User_id')['Rating'].agg(['count','mean'])\n",
    "    cust_benchmark=round(dataset_cust_summary['count'].quantile(quantile_percent),0)\n",
    "    print('The movie_benchmark is: ', movie_benchmark)\n",
    "    \n",
    "    drop_movie_list = ratings_movie_summary[ratings_movie_summary['count']<movie_benchmark].index\n",
    "    drop_cust_list  = dataset_cust_summary[dataset_cust_summary['count']<cust_benchmark].index    \n",
    "    data=data[~data['Movie_id'].isin(drop_movie_list)]\n",
    "    data=data[~data['User_id'].isin(drop_cust_list)]\n",
    "    print('After the triming, the shape is: {}'.format(data.shape))\n",
    "    return data"
   ]
  },
  {
   "cell_type": "markdown",
   "id": "abb87070",
   "metadata": {},
   "source": [
    "### Called the method delLowestReviewedMovies to remove the rewiewd data less than 70 percent quantlile. "
   ]
  },
  {
   "cell_type": "code",
   "execution_count": 10,
   "id": "cf59f553",
   "metadata": {},
   "outputs": [
    {
     "name": "stdout",
     "output_type": "stream",
     "text": [
      "The original dataframe has:  (24053764, 3) shape\n",
      "The movie_benchmark is:  1799\n",
      "After the triming, the shape is: (17337458, 3)\n"
     ]
    }
   ],
   "source": [
    "netflix_df = delLowestReviewedMovies(data=netflix_df, quantile_percent=0.7)"
   ]
  },
  {
   "cell_type": "markdown",
   "id": "dcb76c07",
   "metadata": {},
   "source": [
    "### Created a new method BuldModel to see test_rmse,\tfit_time and \ttest_time scores from different algorithms."
   ]
  },
  {
   "cell_type": "code",
   "execution_count": 11,
   "id": "6d3b0f6d",
   "metadata": {},
   "outputs": [],
   "source": [
    "def BuldModel(data, columns=['User_id','Movie_id','Rating'], datalimit=100000):\n",
    "    \n",
    "    reader=Reader()\n",
    "    data=Dataset.load_from_df(netflix_df[['User_id','Movie_id','Rating']][:100000], reader)\n",
    "    \n",
    "    svd=SVD()\n",
    "    cross_validate(svd, data, measures=['RMSE','MAE'], cv=3)\n",
    "    \n",
    "    # Preare Trainset Data.\n",
    "    trainset = data.build_full_trainset()\n",
    "    testset = trainset.build_testset()\n",
    "    predictions = svd.test(testset)\n",
    "    model_pred = pd.DataFrame([[i.uid, i.iid, i.est] for i in predictions], columns=['User_id', 'Movie_id', 'svd'])\n",
    "    print('The Trainset Data shape is: {}'.format(model_pred.shape))\n",
    "\n",
    "    # Preare Testset Data.\n",
    "    anti_testset = trainset.build_anti_testset()\n",
    "    anti_predictions = svd.test(anti_testset)\n",
    "    model_pred_anti = pd.DataFrame([[i.uid, i.iid, i.est] for i in anti_predictions], columns=['User_id', 'Movie_id', 'svd'])\n",
    "    model_pred_anti = pd.concat([model_pred, model_pred_anti], ignore_index=True)\n",
    "    print('The anti_testset Data shape is: {}'.format(model_pred_anti.shape))\n",
    "    \n",
    "    benchmark = []\n",
    "    # Iterate over all algorithms\n",
    "    algorithms = [SVD(), SVDpp(), SlopeOne(), NMF(), NormalPredictor(),  BaselineOnly(), CoClustering()]\n",
    "    # KNNBaseline(),KNNBasic(),KNNWithMeans(),KNNWithZScore(), # These alogorithm required 22 GiB of RAM hence I ignored it.\n",
    "    print (\"Attempting: \", str(algorithms), '\\n\\n\\n')\n",
    "\n",
    "    for algorithm in algorithms:\n",
    "        print(\"Starting: \" ,str(algorithm))\n",
    "        # Perform cross validation\n",
    "        results = cross_validate(algorithm, data, measures=['RMSE'], cv=3, verbose=False)\n",
    "        # results = cross_validate(algorithm, data, measures=['RMSE','MAE'], cv=3, verbose=False)\n",
    "\n",
    "        # Get results & append algorithm name\n",
    "        tmp = pd.DataFrame.from_dict(results).mean(axis=0)\n",
    "        tmp = tmp.append(pd.Series([str(algorithm).split(' ')[0].split('.')[-1]], index=['Algorithm']))\n",
    "        benchmark.append(tmp)\n",
    "        print(\"Done: \" ,str(algorithm), \"\\n\\n\")\n",
    "\n",
    "    print ('\\n\\tDONE\\n')\n",
    "    surprise_results = pd.DataFrame(benchmark).set_index('Algorithm').sort_values('test_rmse')\n",
    "    return data, surprise_results"
   ]
  },
  {
   "cell_type": "markdown",
   "id": "80df0fe3",
   "metadata": {},
   "source": [
    "### Called the method BuldModel it returns model data frame and suprise result data frame. \n",
    "The below method used datalimit 100000 I have used this limed because the entire data set takes lots of time to build the model, hence I have parameterised the dataset limit."
   ]
  },
  {
   "cell_type": "code",
   "execution_count": 12,
   "id": "23970380",
   "metadata": {},
   "outputs": [
    {
     "name": "stdout",
     "output_type": "stream",
     "text": [
      "The Trainset Data shape is: (100000, 3)\n",
      "The anti_testset Data shape is: (594088, 3)\n",
      "Attempting:  [<surprise.prediction_algorithms.matrix_factorization.SVD object at 0x0000024321D66C50>, <surprise.prediction_algorithms.matrix_factorization.SVDpp object at 0x0000024321D66C90>, <surprise.prediction_algorithms.slope_one.SlopeOne object at 0x000002437A547890>, <surprise.prediction_algorithms.matrix_factorization.NMF object at 0x000002437A795E10>, <surprise.prediction_algorithms.random_pred.NormalPredictor object at 0x000002437A69BF90>, <surprise.prediction_algorithms.baseline_only.BaselineOnly object at 0x000002437A42DC10>, <surprise.prediction_algorithms.co_clustering.CoClustering object at 0x00000243001800D0>] \n",
      "\n",
      "\n",
      "\n",
      "Starting:  <surprise.prediction_algorithms.matrix_factorization.SVD object at 0x0000024321D66C50>\n",
      "Done:  <surprise.prediction_algorithms.matrix_factorization.SVD object at 0x0000024321D66C50> \n",
      "\n",
      "\n",
      "Starting:  <surprise.prediction_algorithms.matrix_factorization.SVDpp object at 0x0000024321D66C90>\n",
      "Done:  <surprise.prediction_algorithms.matrix_factorization.SVDpp object at 0x0000024321D66C90> \n",
      "\n",
      "\n",
      "Starting:  <surprise.prediction_algorithms.slope_one.SlopeOne object at 0x000002437A547890>\n",
      "Done:  <surprise.prediction_algorithms.slope_one.SlopeOne object at 0x000002437A547890> \n",
      "\n",
      "\n",
      "Starting:  <surprise.prediction_algorithms.matrix_factorization.NMF object at 0x000002437A795E10>\n",
      "Done:  <surprise.prediction_algorithms.matrix_factorization.NMF object at 0x000002437A795E10> \n",
      "\n",
      "\n",
      "Starting:  <surprise.prediction_algorithms.random_pred.NormalPredictor object at 0x000002437A69BF90>\n",
      "Done:  <surprise.prediction_algorithms.random_pred.NormalPredictor object at 0x000002437A69BF90> \n",
      "\n",
      "\n",
      "Starting:  <surprise.prediction_algorithms.baseline_only.BaselineOnly object at 0x000002437A42DC10>\n",
      "Estimating biases using als...\n",
      "Estimating biases using als...\n",
      "Estimating biases using als...\n",
      "Done:  <surprise.prediction_algorithms.baseline_only.BaselineOnly object at 0x000002437A42DC10> \n",
      "\n",
      "\n",
      "Starting:  <surprise.prediction_algorithms.co_clustering.CoClustering object at 0x00000243001800D0>\n",
      "Done:  <surprise.prediction_algorithms.co_clustering.CoClustering object at 0x00000243001800D0> \n",
      "\n",
      "\n",
      "\n",
      "\tDONE\n",
      "\n",
      "Time taken to build suprise: 0:01:06.018998\n"
     ]
    }
   ],
   "source": [
    "start = datetime.now()\n",
    "model_data , surprise_results = BuldModel(data=netflix_df, columns=['User_id','Movie_id','Rating'], datalimit=100000)\n",
    "print('Time taken to build suprise:', datetime.now() - start)"
   ]
  },
  {
   "cell_type": "markdown",
   "id": "cfe65528",
   "metadata": {},
   "source": [
    "### The below data frame shows the scors of test_rmse,\tfit_time scores from different algorithms."
   ]
  },
  {
   "cell_type": "code",
   "execution_count": 13,
   "id": "46a5c5c9",
   "metadata": {},
   "outputs": [
    {
     "data": {
      "text/html": [
       "<div>\n",
       "<style scoped>\n",
       "    .dataframe tbody tr th:only-of-type {\n",
       "        vertical-align: middle;\n",
       "    }\n",
       "\n",
       "    .dataframe tbody tr th {\n",
       "        vertical-align: top;\n",
       "    }\n",
       "\n",
       "    .dataframe thead th {\n",
       "        text-align: right;\n",
       "    }\n",
       "</style>\n",
       "<table border=\"1\" class=\"dataframe\">\n",
       "  <thead>\n",
       "    <tr style=\"text-align: right;\">\n",
       "      <th></th>\n",
       "      <th>test_rmse</th>\n",
       "      <th>fit_time</th>\n",
       "      <th>test_time</th>\n",
       "    </tr>\n",
       "    <tr>\n",
       "      <th>Algorithm</th>\n",
       "      <th></th>\n",
       "      <th></th>\n",
       "      <th></th>\n",
       "    </tr>\n",
       "  </thead>\n",
       "  <tbody>\n",
       "    <tr>\n",
       "      <th>BaselineOnly</th>\n",
       "      <td>0.989432</td>\n",
       "      <td>0.332659</td>\n",
       "      <td>0.258005</td>\n",
       "    </tr>\n",
       "    <tr>\n",
       "      <th>SVD</th>\n",
       "      <td>0.998680</td>\n",
       "      <td>1.051334</td>\n",
       "      <td>0.216667</td>\n",
       "    </tr>\n",
       "    <tr>\n",
       "      <th>SVDpp</th>\n",
       "      <td>1.012822</td>\n",
       "      <td>0.959997</td>\n",
       "      <td>0.354676</td>\n",
       "    </tr>\n",
       "    <tr>\n",
       "      <th>SlopeOne</th>\n",
       "      <td>1.097491</td>\n",
       "      <td>0.769333</td>\n",
       "      <td>0.236665</td>\n",
       "    </tr>\n",
       "    <tr>\n",
       "      <th>CoClustering</th>\n",
       "      <td>1.131740</td>\n",
       "      <td>7.027341</td>\n",
       "      <td>0.165985</td>\n",
       "    </tr>\n",
       "    <tr>\n",
       "      <th>NMF</th>\n",
       "      <td>1.145427</td>\n",
       "      <td>4.593641</td>\n",
       "      <td>0.218348</td>\n",
       "    </tr>\n",
       "    <tr>\n",
       "      <th>NormalPredictor</th>\n",
       "      <td>1.411600</td>\n",
       "      <td>0.098998</td>\n",
       "      <td>0.184349</td>\n",
       "    </tr>\n",
       "  </tbody>\n",
       "</table>\n",
       "</div>"
      ],
      "text/plain": [
       "                 test_rmse  fit_time  test_time\n",
       "Algorithm                                      \n",
       "BaselineOnly      0.989432  0.332659   0.258005\n",
       "SVD               0.998680  1.051334   0.216667\n",
       "SVDpp             1.012822  0.959997   0.354676\n",
       "SlopeOne          1.097491  0.769333   0.236665\n",
       "CoClustering      1.131740  7.027341   0.165985\n",
       "NMF               1.145427  4.593641   0.218348\n",
       "NormalPredictor   1.411600  0.098998   0.184349"
      ]
     },
     "execution_count": 13,
     "metadata": {},
     "output_type": "execute_result"
    }
   ],
   "source": [
    "surprise_results"
   ]
  },
  {
   "cell_type": "markdown",
   "id": "de3b7003",
   "metadata": {},
   "source": [
    "### Created a new method getSurprisedResult to get Suprised data frame of an algorithms."
   ]
  },
  {
   "cell_type": "code",
   "execution_count": 14,
   "id": "667d0e28",
   "metadata": {},
   "outputs": [],
   "source": [
    "def getSurprisedResult(model_data,Algorithm, param_grid, MovieData, recommend_column='Movie_id', column_order=['Movie_id', 'Name', 'Year'], User_id =712664 ):\n",
    "# def getPredictedResult(traindata,Algorithm, param_grid, MovieData, columns=['Movie_id', 'Name', 'Year'], User_id =712664 ):\n",
    "    gs = GridSearchCV(Algorithm, param_grid, measures=[\"rmse\", \"mae\"], refit=True, cv=5)\n",
    "    gs.fit(model_data)\n",
    "\n",
    "    training_parameters = gs.best_params[\"rmse\"]\n",
    "\n",
    "    print(\"Algorithm Name:\", Algorithm, \"BEST RMSE: \\t\", gs.best_score[\"rmse\"])\n",
    "    print(\"Algorithm Name:\", Algorithm,\"BEST MAE: \\t\", gs.best_score[\"mae\"])\n",
    "    print(\"Algorithm Name:\", Algorithm,\"BEST params: \\t\", gs.best_params[\"rmse\"])\n",
    "\n",
    "    user_df = MovieData[column_order]\n",
    "    user_df['Estimate_Score'] =user_df[recommend_column].apply(lambda x: gs.predict(User_id, x).est)\n",
    "    user_df = user_df.drop('Movie_id', axis = 1)\n",
    "    user_df = user_df.sort_values('Estimate_Score', ascending=False)\n",
    "    return user_df\n"
   ]
  },
  {
   "cell_type": "markdown",
   "id": "722dc86e",
   "metadata": {},
   "source": [
    "### Executing the method getSurprisedResult for the algorith name :BaselineOnly to get the Surprised data frame."
   ]
  },
  {
   "cell_type": "code",
   "execution_count": 15,
   "id": "49e8f707",
   "metadata": {},
   "outputs": [
    {
     "name": "stdout",
     "output_type": "stream",
     "text": [
      "Estimating biases using als...\n",
      "Estimating biases using als...\n",
      "Estimating biases using als...\n",
      "Estimating biases using als...\n",
      "Estimating biases using als...\n",
      "Estimating biases using als...\n",
      "Algorithm Name: <class 'surprise.prediction_algorithms.baseline_only.BaselineOnly'> BEST RMSE: \t 0.988433993030869\n",
      "Algorithm Name: <class 'surprise.prediction_algorithms.baseline_only.BaselineOnly'> BEST MAE: \t 0.7939843676080804\n",
      "Algorithm Name: <class 'surprise.prediction_algorithms.baseline_only.BaselineOnly'> BEST params: \t {}\n",
      "Time taken to build BaselineOnly suprise model: 0:00:04.437555\n"
     ]
    }
   ],
   "source": [
    "start = datetime.now()\n",
    "param_grid = {\n",
    "}\n",
    "Base_Surprised_movies_df = getSurprisedResult(model_data=model_data,Algorithm=BaselineOnly,param_grid = param_grid  , MovieData=movie_title_df, User_id =712664 )\n",
    "print('Time taken to build BaselineOnly suprise model:', datetime.now() - start)"
   ]
  },
  {
   "cell_type": "markdown",
   "id": "86612f25",
   "metadata": {},
   "source": [
    "### Executing the method getSurprisedResult for the algorith name :BaselineOnly to get the Surprised data frame."
   ]
  },
  {
   "cell_type": "code",
   "execution_count": 16,
   "id": "bd1f7193",
   "metadata": {},
   "outputs": [
    {
     "data": {
      "text/html": [
       "<div>\n",
       "<style scoped>\n",
       "    .dataframe tbody tr th:only-of-type {\n",
       "        vertical-align: middle;\n",
       "    }\n",
       "\n",
       "    .dataframe tbody tr th {\n",
       "        vertical-align: top;\n",
       "    }\n",
       "\n",
       "    .dataframe thead th {\n",
       "        text-align: right;\n",
       "    }\n",
       "</style>\n",
       "<table border=\"1\" class=\"dataframe\">\n",
       "  <thead>\n",
       "    <tr style=\"text-align: right;\">\n",
       "      <th></th>\n",
       "      <th>Name</th>\n",
       "      <th>Year</th>\n",
       "      <th>Estimate_Score</th>\n",
       "    </tr>\n",
       "  </thead>\n",
       "  <tbody>\n",
       "    <tr>\n",
       "      <th>27</th>\n",
       "      <td>Lilo and Stitch</td>\n",
       "      <td>2002.0</td>\n",
       "      <td>3.910127</td>\n",
       "    </tr>\n",
       "    <tr>\n",
       "      <th>17</th>\n",
       "      <td>Immortal Beloved</td>\n",
       "      <td>1994.0</td>\n",
       "      <td>3.874750</td>\n",
       "    </tr>\n",
       "    <tr>\n",
       "      <th>29</th>\n",
       "      <td>Something's Gotta Give</td>\n",
       "      <td>2003.0</td>\n",
       "      <td>3.816699</td>\n",
       "    </tr>\n",
       "    <tr>\n",
       "      <th>2</th>\n",
       "      <td>Character</td>\n",
       "      <td>1997.0</td>\n",
       "      <td>3.738633</td>\n",
       "    </tr>\n",
       "    <tr>\n",
       "      <th>11846</th>\n",
       "      <td>Dust to Glory</td>\n",
       "      <td>2005.0</td>\n",
       "      <td>3.705793</td>\n",
       "    </tr>\n",
       "    <tr>\n",
       "      <th>11851</th>\n",
       "      <td>Return to the Blue Lagoon</td>\n",
       "      <td>1991.0</td>\n",
       "      <td>3.705793</td>\n",
       "    </tr>\n",
       "    <tr>\n",
       "      <th>11850</th>\n",
       "      <td>The Yearling</td>\n",
       "      <td>1946.0</td>\n",
       "      <td>3.705793</td>\n",
       "    </tr>\n",
       "    <tr>\n",
       "      <th>11849</th>\n",
       "      <td>Dumb and Dumberer: When Harry Met Lloyd</td>\n",
       "      <td>2003.0</td>\n",
       "      <td>3.705793</td>\n",
       "    </tr>\n",
       "    <tr>\n",
       "      <th>11848</th>\n",
       "      <td>Earth</td>\n",
       "      <td>1998.0</td>\n",
       "      <td>3.705793</td>\n",
       "    </tr>\n",
       "    <tr>\n",
       "      <th>11847</th>\n",
       "      <td>For Richer or Poorer</td>\n",
       "      <td>1997.0</td>\n",
       "      <td>3.705793</td>\n",
       "    </tr>\n",
       "  </tbody>\n",
       "</table>\n",
       "</div>"
      ],
      "text/plain": [
       "                                          Name    Year  Estimate_Score\n",
       "27                             Lilo and Stitch  2002.0        3.910127\n",
       "17                            Immortal Beloved  1994.0        3.874750\n",
       "29                      Something's Gotta Give  2003.0        3.816699\n",
       "2                                    Character  1997.0        3.738633\n",
       "11846                            Dust to Glory  2005.0        3.705793\n",
       "11851                Return to the Blue Lagoon  1991.0        3.705793\n",
       "11850                             The Yearling  1946.0        3.705793\n",
       "11849  Dumb and Dumberer: When Harry Met Lloyd  2003.0        3.705793\n",
       "11848                                    Earth  1998.0        3.705793\n",
       "11847                     For Richer or Poorer  1997.0        3.705793"
      ]
     },
     "execution_count": 16,
     "metadata": {},
     "output_type": "execute_result"
    }
   ],
   "source": [
    "Base_Surprised_movies_df.head(10)"
   ]
  },
  {
   "cell_type": "markdown",
   "id": "6fc161a9",
   "metadata": {},
   "source": [
    "### Executing the method getSurprisedResult for the algorith name :SVD to get the Surprised data frame."
   ]
  },
  {
   "cell_type": "code",
   "execution_count": 17,
   "id": "b056e2b5",
   "metadata": {},
   "outputs": [
    {
     "name": "stdout",
     "output_type": "stream",
     "text": [
      "Algorithm Name: <class 'surprise.prediction_algorithms.matrix_factorization.SVD'> BEST RMSE: \t 0.991384456503688\n",
      "Algorithm Name: <class 'surprise.prediction_algorithms.matrix_factorization.SVD'> BEST MAE: \t 0.7941747867698165\n",
      "Algorithm Name: <class 'surprise.prediction_algorithms.matrix_factorization.SVD'> BEST params: \t {'n_epochs': 20, 'lr_all': 0.002, 'reg_all': 0.02}\n",
      "Time taken to build SVD suprise model: 0:00:26.506996\n"
     ]
    }
   ],
   "source": [
    "start = datetime.now()\n",
    "param_grid = {\n",
    "\"n_epochs\": [10, 20],\n",
    "\"lr_all\": [0.002, 0.005],\n",
    "\"reg_all\": [0.02]\n",
    "}\n",
    "SVD_Surprised_movies_df = getSurprisedResult(model_data=model_data,Algorithm=SVD,param_grid = param_grid  , MovieData=movie_title_df, User_id =712664 )\n",
    "print('Time taken to build SVD suprise model:', datetime.now() - start)"
   ]
  },
  {
   "cell_type": "markdown",
   "id": "1d9755d9",
   "metadata": {},
   "source": [
    "### The below data frame Surprised_movies_df will show top 10 recommend movies using Algorithm : SVD "
   ]
  },
  {
   "cell_type": "code",
   "execution_count": 18,
   "id": "fa402faf",
   "metadata": {},
   "outputs": [
    {
     "data": {
      "text/html": [
       "<div>\n",
       "<style scoped>\n",
       "    .dataframe tbody tr th:only-of-type {\n",
       "        vertical-align: middle;\n",
       "    }\n",
       "\n",
       "    .dataframe tbody tr th {\n",
       "        vertical-align: top;\n",
       "    }\n",
       "\n",
       "    .dataframe thead th {\n",
       "        text-align: right;\n",
       "    }\n",
       "</style>\n",
       "<table border=\"1\" class=\"dataframe\">\n",
       "  <thead>\n",
       "    <tr style=\"text-align: right;\">\n",
       "      <th></th>\n",
       "      <th>Name</th>\n",
       "      <th>Year</th>\n",
       "      <th>Estimate_Score</th>\n",
       "    </tr>\n",
       "  </thead>\n",
       "  <tbody>\n",
       "    <tr>\n",
       "      <th>17</th>\n",
       "      <td>Immortal Beloved</td>\n",
       "      <td>1994.0</td>\n",
       "      <td>3.884352</td>\n",
       "    </tr>\n",
       "    <tr>\n",
       "      <th>27</th>\n",
       "      <td>Lilo and Stitch</td>\n",
       "      <td>2002.0</td>\n",
       "      <td>3.839536</td>\n",
       "    </tr>\n",
       "    <tr>\n",
       "      <th>29</th>\n",
       "      <td>Something's Gotta Give</td>\n",
       "      <td>2003.0</td>\n",
       "      <td>3.797985</td>\n",
       "    </tr>\n",
       "    <tr>\n",
       "      <th>0</th>\n",
       "      <td>Dinosaur Planet</td>\n",
       "      <td>2003.0</td>\n",
       "      <td>3.672690</td>\n",
       "    </tr>\n",
       "    <tr>\n",
       "      <th>11851</th>\n",
       "      <td>Return to the Blue Lagoon</td>\n",
       "      <td>1991.0</td>\n",
       "      <td>3.672690</td>\n",
       "    </tr>\n",
       "    <tr>\n",
       "      <th>11850</th>\n",
       "      <td>The Yearling</td>\n",
       "      <td>1946.0</td>\n",
       "      <td>3.672690</td>\n",
       "    </tr>\n",
       "    <tr>\n",
       "      <th>11849</th>\n",
       "      <td>Dumb and Dumberer: When Harry Met Lloyd</td>\n",
       "      <td>2003.0</td>\n",
       "      <td>3.672690</td>\n",
       "    </tr>\n",
       "    <tr>\n",
       "      <th>11848</th>\n",
       "      <td>Earth</td>\n",
       "      <td>1998.0</td>\n",
       "      <td>3.672690</td>\n",
       "    </tr>\n",
       "    <tr>\n",
       "      <th>11847</th>\n",
       "      <td>For Richer or Poorer</td>\n",
       "      <td>1997.0</td>\n",
       "      <td>3.672690</td>\n",
       "    </tr>\n",
       "    <tr>\n",
       "      <th>11846</th>\n",
       "      <td>Dust to Glory</td>\n",
       "      <td>2005.0</td>\n",
       "      <td>3.672690</td>\n",
       "    </tr>\n",
       "  </tbody>\n",
       "</table>\n",
       "</div>"
      ],
      "text/plain": [
       "                                          Name    Year  Estimate_Score\n",
       "17                            Immortal Beloved  1994.0        3.884352\n",
       "27                             Lilo and Stitch  2002.0        3.839536\n",
       "29                      Something's Gotta Give  2003.0        3.797985\n",
       "0                              Dinosaur Planet  2003.0        3.672690\n",
       "11851                Return to the Blue Lagoon  1991.0        3.672690\n",
       "11850                             The Yearling  1946.0        3.672690\n",
       "11849  Dumb and Dumberer: When Harry Met Lloyd  2003.0        3.672690\n",
       "11848                                    Earth  1998.0        3.672690\n",
       "11847                     For Richer or Poorer  1997.0        3.672690\n",
       "11846                            Dust to Glory  2005.0        3.672690"
      ]
     },
     "execution_count": 18,
     "metadata": {},
     "output_type": "execute_result"
    }
   ],
   "source": [
    "SVD_Surprised_movies_df.head(10)"
   ]
  },
  {
   "cell_type": "markdown",
   "id": "ede83d82",
   "metadata": {},
   "source": [
    "### Executing the method getSurprisedResult for the algorith name :SVDpp to get the Surprised data frame."
   ]
  },
  {
   "cell_type": "code",
   "execution_count": 19,
   "id": "3d41ac0d",
   "metadata": {},
   "outputs": [
    {
     "name": "stdout",
     "output_type": "stream",
     "text": [
      "Algorithm Name: <class 'surprise.prediction_algorithms.matrix_factorization.SVDpp'> BEST RMSE: \t 0.9907300236438932\n",
      "Algorithm Name: <class 'surprise.prediction_algorithms.matrix_factorization.SVDpp'> BEST MAE: \t 0.7982833164737003\n",
      "Algorithm Name: <class 'surprise.prediction_algorithms.matrix_factorization.SVDpp'> BEST params: \t {'n_epochs': 20, 'lr_all': 0.002, 'reg_all': 0.02}\n",
      "Time taken to build SVDpp suprise model: 0:00:26.261997\n"
     ]
    }
   ],
   "source": [
    "start = datetime.now()\n",
    "param_grid = {\n",
    "\"n_epochs\": [10, 20],\n",
    "\"lr_all\": [0.002, 0.005],\n",
    "\"reg_all\": [0.02]\n",
    "}\n",
    "SVDpp_Surprised_movies_df = getSurprisedResult(model_data=model_data,Algorithm=SVDpp,param_grid = param_grid  , MovieData=movie_title_df, User_id =712664 )\n",
    "print('Time taken to build SVDpp suprise model:', datetime.now() - start)"
   ]
  },
  {
   "cell_type": "markdown",
   "id": "6ebf46fa",
   "metadata": {},
   "source": [
    "### The below data frame Surprised_movies_df will show top 10 recommend movies using Algorithm : SVDpp "
   ]
  },
  {
   "cell_type": "code",
   "execution_count": 20,
   "id": "393b88ef",
   "metadata": {},
   "outputs": [
    {
     "data": {
      "text/html": [
       "<div>\n",
       "<style scoped>\n",
       "    .dataframe tbody tr th:only-of-type {\n",
       "        vertical-align: middle;\n",
       "    }\n",
       "\n",
       "    .dataframe tbody tr th {\n",
       "        vertical-align: top;\n",
       "    }\n",
       "\n",
       "    .dataframe thead th {\n",
       "        text-align: right;\n",
       "    }\n",
       "</style>\n",
       "<table border=\"1\" class=\"dataframe\">\n",
       "  <thead>\n",
       "    <tr style=\"text-align: right;\">\n",
       "      <th></th>\n",
       "      <th>Name</th>\n",
       "      <th>Year</th>\n",
       "      <th>Estimate_Score</th>\n",
       "    </tr>\n",
       "  </thead>\n",
       "  <tbody>\n",
       "    <tr>\n",
       "      <th>17</th>\n",
       "      <td>Immortal Beloved</td>\n",
       "      <td>1994.0</td>\n",
       "      <td>3.813666</td>\n",
       "    </tr>\n",
       "    <tr>\n",
       "      <th>27</th>\n",
       "      <td>Lilo and Stitch</td>\n",
       "      <td>2002.0</td>\n",
       "      <td>3.791544</td>\n",
       "    </tr>\n",
       "    <tr>\n",
       "      <th>29</th>\n",
       "      <td>Something's Gotta Give</td>\n",
       "      <td>2003.0</td>\n",
       "      <td>3.723045</td>\n",
       "    </tr>\n",
       "    <tr>\n",
       "      <th>0</th>\n",
       "      <td>Dinosaur Planet</td>\n",
       "      <td>2003.0</td>\n",
       "      <td>3.679149</td>\n",
       "    </tr>\n",
       "    <tr>\n",
       "      <th>11851</th>\n",
       "      <td>Return to the Blue Lagoon</td>\n",
       "      <td>1991.0</td>\n",
       "      <td>3.679149</td>\n",
       "    </tr>\n",
       "    <tr>\n",
       "      <th>11850</th>\n",
       "      <td>The Yearling</td>\n",
       "      <td>1946.0</td>\n",
       "      <td>3.679149</td>\n",
       "    </tr>\n",
       "    <tr>\n",
       "      <th>11849</th>\n",
       "      <td>Dumb and Dumberer: When Harry Met Lloyd</td>\n",
       "      <td>2003.0</td>\n",
       "      <td>3.679149</td>\n",
       "    </tr>\n",
       "    <tr>\n",
       "      <th>11848</th>\n",
       "      <td>Earth</td>\n",
       "      <td>1998.0</td>\n",
       "      <td>3.679149</td>\n",
       "    </tr>\n",
       "    <tr>\n",
       "      <th>11847</th>\n",
       "      <td>For Richer or Poorer</td>\n",
       "      <td>1997.0</td>\n",
       "      <td>3.679149</td>\n",
       "    </tr>\n",
       "    <tr>\n",
       "      <th>11846</th>\n",
       "      <td>Dust to Glory</td>\n",
       "      <td>2005.0</td>\n",
       "      <td>3.679149</td>\n",
       "    </tr>\n",
       "  </tbody>\n",
       "</table>\n",
       "</div>"
      ],
      "text/plain": [
       "                                          Name    Year  Estimate_Score\n",
       "17                            Immortal Beloved  1994.0        3.813666\n",
       "27                             Lilo and Stitch  2002.0        3.791544\n",
       "29                      Something's Gotta Give  2003.0        3.723045\n",
       "0                              Dinosaur Planet  2003.0        3.679149\n",
       "11851                Return to the Blue Lagoon  1991.0        3.679149\n",
       "11850                             The Yearling  1946.0        3.679149\n",
       "11849  Dumb and Dumberer: When Harry Met Lloyd  2003.0        3.679149\n",
       "11848                                    Earth  1998.0        3.679149\n",
       "11847                     For Richer or Poorer  1997.0        3.679149\n",
       "11846                            Dust to Glory  2005.0        3.679149"
      ]
     },
     "execution_count": 20,
     "metadata": {},
     "output_type": "execute_result"
    }
   ],
   "source": [
    "SVDpp_Surprised_movies_df.head(10)"
   ]
  },
  {
   "cell_type": "markdown",
   "id": "c83fee7a",
   "metadata": {},
   "source": [
    "### Executing the method getSurprisedResult for the algorith name :SlopeOne to get the Surprised data frame."
   ]
  },
  {
   "cell_type": "code",
   "execution_count": 21,
   "id": "6eee51dd",
   "metadata": {},
   "outputs": [
    {
     "name": "stdout",
     "output_type": "stream",
     "text": [
      "Algorithm Name: <class 'surprise.prediction_algorithms.slope_one.SlopeOne'> BEST RMSE: \t 1.1065073856632865\n",
      "Algorithm Name: <class 'surprise.prediction_algorithms.slope_one.SlopeOne'> BEST MAE: \t 0.8837989057724268\n",
      "Algorithm Name: <class 'surprise.prediction_algorithms.slope_one.SlopeOne'> BEST params: \t {}\n",
      "Time taken to build SlopeOne suprise model: 0:00:08.325999\n"
     ]
    }
   ],
   "source": [
    "start = datetime.now()\n",
    "param_grid = {\n",
    "}\n",
    "Slope_Surprised_movies_df = getSurprisedResult(model_data=model_data,Algorithm=SlopeOne,param_grid = param_grid  , MovieData=movie_title_df, User_id =712664 )\n",
    "print('Time taken to build SlopeOne suprise model:', datetime.now() - start)"
   ]
  },
  {
   "cell_type": "markdown",
   "id": "007fa361",
   "metadata": {},
   "source": [
    "### The below data frame Surprised_movies_df will show top 10 recommend movies using Algorithm : SlopeOne "
   ]
  },
  {
   "cell_type": "code",
   "execution_count": 22,
   "id": "57e988ad",
   "metadata": {},
   "outputs": [
    {
     "data": {
      "text/html": [
       "<div>\n",
       "<style scoped>\n",
       "    .dataframe tbody tr th:only-of-type {\n",
       "        vertical-align: middle;\n",
       "    }\n",
       "\n",
       "    .dataframe tbody tr th {\n",
       "        vertical-align: top;\n",
       "    }\n",
       "\n",
       "    .dataframe thead th {\n",
       "        text-align: right;\n",
       "    }\n",
       "</style>\n",
       "<table border=\"1\" class=\"dataframe\">\n",
       "  <thead>\n",
       "    <tr style=\"text-align: right;\">\n",
       "      <th></th>\n",
       "      <th>Name</th>\n",
       "      <th>Year</th>\n",
       "      <th>Estimate_Score</th>\n",
       "    </tr>\n",
       "  </thead>\n",
       "  <tbody>\n",
       "    <tr>\n",
       "      <th>27</th>\n",
       "      <td>Lilo and Stitch</td>\n",
       "      <td>2002.0</td>\n",
       "      <td>4.333514</td>\n",
       "    </tr>\n",
       "    <tr>\n",
       "      <th>29</th>\n",
       "      <td>Something's Gotta Give</td>\n",
       "      <td>2003.0</td>\n",
       "      <td>4.304397</td>\n",
       "    </tr>\n",
       "    <tr>\n",
       "      <th>17</th>\n",
       "      <td>Immortal Beloved</td>\n",
       "      <td>1994.0</td>\n",
       "      <td>4.297718</td>\n",
       "    </tr>\n",
       "    <tr>\n",
       "      <th>2</th>\n",
       "      <td>Character</td>\n",
       "      <td>1997.0</td>\n",
       "      <td>4.167890</td>\n",
       "    </tr>\n",
       "    <tr>\n",
       "      <th>16</th>\n",
       "      <td>7 Seconds</td>\n",
       "      <td>2005.0</td>\n",
       "      <td>3.754298</td>\n",
       "    </tr>\n",
       "    <tr>\n",
       "      <th>15</th>\n",
       "      <td>Screamers</td>\n",
       "      <td>1996.0</td>\n",
       "      <td>3.719256</td>\n",
       "    </tr>\n",
       "    <tr>\n",
       "      <th>0</th>\n",
       "      <td>Dinosaur Planet</td>\n",
       "      <td>2003.0</td>\n",
       "      <td>3.603760</td>\n",
       "    </tr>\n",
       "    <tr>\n",
       "      <th>11852</th>\n",
       "      <td>Privates on Parade</td>\n",
       "      <td>1982.0</td>\n",
       "      <td>3.603760</td>\n",
       "    </tr>\n",
       "    <tr>\n",
       "      <th>11851</th>\n",
       "      <td>Return to the Blue Lagoon</td>\n",
       "      <td>1991.0</td>\n",
       "      <td>3.603760</td>\n",
       "    </tr>\n",
       "    <tr>\n",
       "      <th>11850</th>\n",
       "      <td>The Yearling</td>\n",
       "      <td>1946.0</td>\n",
       "      <td>3.603760</td>\n",
       "    </tr>\n",
       "  </tbody>\n",
       "</table>\n",
       "</div>"
      ],
      "text/plain": [
       "                            Name    Year  Estimate_Score\n",
       "27               Lilo and Stitch  2002.0        4.333514\n",
       "29        Something's Gotta Give  2003.0        4.304397\n",
       "17              Immortal Beloved  1994.0        4.297718\n",
       "2                      Character  1997.0        4.167890\n",
       "16                     7 Seconds  2005.0        3.754298\n",
       "15                     Screamers  1996.0        3.719256\n",
       "0                Dinosaur Planet  2003.0        3.603760\n",
       "11852         Privates on Parade  1982.0        3.603760\n",
       "11851  Return to the Blue Lagoon  1991.0        3.603760\n",
       "11850               The Yearling  1946.0        3.603760"
      ]
     },
     "execution_count": 22,
     "metadata": {},
     "output_type": "execute_result"
    }
   ],
   "source": [
    "Slope_Surprised_movies_df.head(10)"
   ]
  },
  {
   "cell_type": "markdown",
   "id": "aefc1fee",
   "metadata": {},
   "source": [
    "### Executing the method getSurprisedResult for the algorith name :CoClustering to get the Surprised data frame."
   ]
  },
  {
   "cell_type": "code",
   "execution_count": 23,
   "id": "9cd91348",
   "metadata": {},
   "outputs": [
    {
     "name": "stdout",
     "output_type": "stream",
     "text": [
      "Algorithm Name: <class 'surprise.prediction_algorithms.co_clustering.CoClustering'> BEST RMSE: \t 1.1338308519187397\n",
      "Algorithm Name: <class 'surprise.prediction_algorithms.co_clustering.CoClustering'> BEST MAE: \t 0.9080891647735095\n",
      "Algorithm Name: <class 'surprise.prediction_algorithms.co_clustering.CoClustering'> BEST params: \t {}\n",
      "Time taken to build CoClustering suprise model: 0:00:53.389018\n"
     ]
    }
   ],
   "source": [
    "start = datetime.now()\n",
    "param_grid = {\n",
    "}\n",
    "\n",
    "CoCluster_Surprised_movies_df = getSurprisedResult(model_data=model_data,Algorithm=CoClustering,param_grid = param_grid  , MovieData=movie_title_df, User_id =712664 )\n",
    "print('Time taken to build CoClustering suprise model:', datetime.now() - start)"
   ]
  },
  {
   "cell_type": "markdown",
   "id": "5c46bb97",
   "metadata": {},
   "source": [
    "### Executing the method getSurprisedResult for the algorith name :CoClustering to get the Surprised data frame."
   ]
  },
  {
   "cell_type": "code",
   "execution_count": 24,
   "id": "101155bc",
   "metadata": {},
   "outputs": [
    {
     "data": {
      "text/html": [
       "<div>\n",
       "<style scoped>\n",
       "    .dataframe tbody tr th:only-of-type {\n",
       "        vertical-align: middle;\n",
       "    }\n",
       "\n",
       "    .dataframe tbody tr th {\n",
       "        vertical-align: top;\n",
       "    }\n",
       "\n",
       "    .dataframe thead th {\n",
       "        text-align: right;\n",
       "    }\n",
       "</style>\n",
       "<table border=\"1\" class=\"dataframe\">\n",
       "  <thead>\n",
       "    <tr style=\"text-align: right;\">\n",
       "      <th></th>\n",
       "      <th>Name</th>\n",
       "      <th>Year</th>\n",
       "      <th>Estimate_Score</th>\n",
       "    </tr>\n",
       "  </thead>\n",
       "  <tbody>\n",
       "    <tr>\n",
       "      <th>27</th>\n",
       "      <td>Lilo and Stitch</td>\n",
       "      <td>2002.0</td>\n",
       "      <td>4.235074</td>\n",
       "    </tr>\n",
       "    <tr>\n",
       "      <th>17</th>\n",
       "      <td>Immortal Beloved</td>\n",
       "      <td>1994.0</td>\n",
       "      <td>4.194078</td>\n",
       "    </tr>\n",
       "    <tr>\n",
       "      <th>29</th>\n",
       "      <td>Something's Gotta Give</td>\n",
       "      <td>2003.0</td>\n",
       "      <td>4.155878</td>\n",
       "    </tr>\n",
       "    <tr>\n",
       "      <th>2</th>\n",
       "      <td>Character</td>\n",
       "      <td>1997.0</td>\n",
       "      <td>4.047871</td>\n",
       "    </tr>\n",
       "    <tr>\n",
       "      <th>11846</th>\n",
       "      <td>Dust to Glory</td>\n",
       "      <td>2005.0</td>\n",
       "      <td>3.603760</td>\n",
       "    </tr>\n",
       "    <tr>\n",
       "      <th>11851</th>\n",
       "      <td>Return to the Blue Lagoon</td>\n",
       "      <td>1991.0</td>\n",
       "      <td>3.603760</td>\n",
       "    </tr>\n",
       "    <tr>\n",
       "      <th>11850</th>\n",
       "      <td>The Yearling</td>\n",
       "      <td>1946.0</td>\n",
       "      <td>3.603760</td>\n",
       "    </tr>\n",
       "    <tr>\n",
       "      <th>11849</th>\n",
       "      <td>Dumb and Dumberer: When Harry Met Lloyd</td>\n",
       "      <td>2003.0</td>\n",
       "      <td>3.603760</td>\n",
       "    </tr>\n",
       "    <tr>\n",
       "      <th>11848</th>\n",
       "      <td>Earth</td>\n",
       "      <td>1998.0</td>\n",
       "      <td>3.603760</td>\n",
       "    </tr>\n",
       "    <tr>\n",
       "      <th>11847</th>\n",
       "      <td>For Richer or Poorer</td>\n",
       "      <td>1997.0</td>\n",
       "      <td>3.603760</td>\n",
       "    </tr>\n",
       "  </tbody>\n",
       "</table>\n",
       "</div>"
      ],
      "text/plain": [
       "                                          Name    Year  Estimate_Score\n",
       "27                             Lilo and Stitch  2002.0        4.235074\n",
       "17                            Immortal Beloved  1994.0        4.194078\n",
       "29                      Something's Gotta Give  2003.0        4.155878\n",
       "2                                    Character  1997.0        4.047871\n",
       "11846                            Dust to Glory  2005.0        3.603760\n",
       "11851                Return to the Blue Lagoon  1991.0        3.603760\n",
       "11850                             The Yearling  1946.0        3.603760\n",
       "11849  Dumb and Dumberer: When Harry Met Lloyd  2003.0        3.603760\n",
       "11848                                    Earth  1998.0        3.603760\n",
       "11847                     For Richer or Poorer  1997.0        3.603760"
      ]
     },
     "execution_count": 24,
     "metadata": {},
     "output_type": "execute_result"
    }
   ],
   "source": [
    "CoCluster_Surprised_movies_df.head(10)"
   ]
  },
  {
   "cell_type": "markdown",
   "id": "b7246f05",
   "metadata": {},
   "source": [
    "### Executing the method getSurprisedResult for the algorith name :NMF to get the Surprised data frame."
   ]
  },
  {
   "cell_type": "code",
   "execution_count": 25,
   "id": "057f0503",
   "metadata": {},
   "outputs": [
    {
     "name": "stdout",
     "output_type": "stream",
     "text": [
      "Algorithm Name: <class 'surprise.prediction_algorithms.matrix_factorization.NMF'> BEST RMSE: \t 1.0830036445640525\n",
      "Algorithm Name: <class 'surprise.prediction_algorithms.matrix_factorization.NMF'> BEST MAE: \t 0.8875485128865248\n",
      "Algorithm Name: <class 'surprise.prediction_algorithms.matrix_factorization.NMF'> BEST params: \t {'n_factors': 1, 'n_epochs': 10, 'biased': True, 'reg_bu': 0.1, 'reg_bi': 0.1}\n",
      "Time taken to build NMF suprise model: 0:04:33.496014\n"
     ]
    }
   ],
   "source": [
    "start = datetime.now()\n",
    "param_grid = {'n_factors': [1,2,3,4,5,6,7,8,9,10], 'n_epochs': [10, 20], 'biased': [True], 'reg_bu': [0.1], 'reg_bi': [0.1]}   \n",
    "NMF_Surprised_movies_df = getSurprisedResult(model_data=model_data,Algorithm=NMF,param_grid = param_grid  , MovieData=movie_title_df, User_id =712664 )\n",
    "print('Time taken to build NMF suprise model:', datetime.now() - start)"
   ]
  },
  {
   "cell_type": "markdown",
   "id": "bd5a2f9a",
   "metadata": {},
   "source": [
    "### The below data frame Surprised_movies_df will show top 10 recommend movies using Algorithm : NMF "
   ]
  },
  {
   "cell_type": "code",
   "execution_count": 27,
   "id": "26a413cb",
   "metadata": {},
   "outputs": [
    {
     "data": {
      "text/html": [
       "<div>\n",
       "<style scoped>\n",
       "    .dataframe tbody tr th:only-of-type {\n",
       "        vertical-align: middle;\n",
       "    }\n",
       "\n",
       "    .dataframe tbody tr th {\n",
       "        vertical-align: top;\n",
       "    }\n",
       "\n",
       "    .dataframe thead th {\n",
       "        text-align: right;\n",
       "    }\n",
       "</style>\n",
       "<table border=\"1\" class=\"dataframe\">\n",
       "  <thead>\n",
       "    <tr style=\"text-align: right;\">\n",
       "      <th></th>\n",
       "      <th>Name</th>\n",
       "      <th>Year</th>\n",
       "      <th>Estimate_Score</th>\n",
       "    </tr>\n",
       "  </thead>\n",
       "  <tbody>\n",
       "    <tr>\n",
       "      <th>17</th>\n",
       "      <td>Immortal Beloved</td>\n",
       "      <td>1994.0</td>\n",
       "      <td>4.118542</td>\n",
       "    </tr>\n",
       "    <tr>\n",
       "      <th>27</th>\n",
       "      <td>Lilo and Stitch</td>\n",
       "      <td>2002.0</td>\n",
       "      <td>4.109947</td>\n",
       "    </tr>\n",
       "    <tr>\n",
       "      <th>29</th>\n",
       "      <td>Something's Gotta Give</td>\n",
       "      <td>2003.0</td>\n",
       "      <td>3.936677</td>\n",
       "    </tr>\n",
       "    <tr>\n",
       "      <th>2</th>\n",
       "      <td>Character</td>\n",
       "      <td>1997.0</td>\n",
       "      <td>3.856555</td>\n",
       "    </tr>\n",
       "    <tr>\n",
       "      <th>11846</th>\n",
       "      <td>Dust to Glory</td>\n",
       "      <td>2005.0</td>\n",
       "      <td>3.673799</td>\n",
       "    </tr>\n",
       "    <tr>\n",
       "      <th>11851</th>\n",
       "      <td>Return to the Blue Lagoon</td>\n",
       "      <td>1991.0</td>\n",
       "      <td>3.673799</td>\n",
       "    </tr>\n",
       "    <tr>\n",
       "      <th>11850</th>\n",
       "      <td>The Yearling</td>\n",
       "      <td>1946.0</td>\n",
       "      <td>3.673799</td>\n",
       "    </tr>\n",
       "    <tr>\n",
       "      <th>11849</th>\n",
       "      <td>Dumb and Dumberer: When Harry Met Lloyd</td>\n",
       "      <td>2003.0</td>\n",
       "      <td>3.673799</td>\n",
       "    </tr>\n",
       "    <tr>\n",
       "      <th>11848</th>\n",
       "      <td>Earth</td>\n",
       "      <td>1998.0</td>\n",
       "      <td>3.673799</td>\n",
       "    </tr>\n",
       "    <tr>\n",
       "      <th>11847</th>\n",
       "      <td>For Richer or Poorer</td>\n",
       "      <td>1997.0</td>\n",
       "      <td>3.673799</td>\n",
       "    </tr>\n",
       "  </tbody>\n",
       "</table>\n",
       "</div>"
      ],
      "text/plain": [
       "                                          Name    Year  Estimate_Score\n",
       "17                            Immortal Beloved  1994.0        4.118542\n",
       "27                             Lilo and Stitch  2002.0        4.109947\n",
       "29                      Something's Gotta Give  2003.0        3.936677\n",
       "2                                    Character  1997.0        3.856555\n",
       "11846                            Dust to Glory  2005.0        3.673799\n",
       "11851                Return to the Blue Lagoon  1991.0        3.673799\n",
       "11850                             The Yearling  1946.0        3.673799\n",
       "11849  Dumb and Dumberer: When Harry Met Lloyd  2003.0        3.673799\n",
       "11848                                    Earth  1998.0        3.673799\n",
       "11847                     For Richer or Poorer  1997.0        3.673799"
      ]
     },
     "execution_count": 27,
     "metadata": {},
     "output_type": "execute_result"
    }
   ],
   "source": [
    "NMF_Surprised_movies_df.head(10)"
   ]
  },
  {
   "cell_type": "markdown",
   "id": "07bde50c",
   "metadata": {},
   "source": [
    "### Executing the method getSurprisedResult for the algorith name :NormalPredictor to get the Surprised data frame."
   ]
  },
  {
   "cell_type": "code",
   "execution_count": 28,
   "id": "a29dee90",
   "metadata": {},
   "outputs": [
    {
     "name": "stdout",
     "output_type": "stream",
     "text": [
      "Algorithm Name: <class 'surprise.prediction_algorithms.random_pred.NormalPredictor'> BEST RMSE: \t 1.413681687401473\n",
      "Algorithm Name: <class 'surprise.prediction_algorithms.random_pred.NormalPredictor'> BEST MAE: \t 1.1306476425007592\n",
      "Algorithm Name: <class 'surprise.prediction_algorithms.random_pred.NormalPredictor'> BEST params: \t {}\n",
      "Time taken to build NormalPredictor suprise model: 0:00:03.394691\n"
     ]
    }
   ],
   "source": [
    "start = datetime.now()\n",
    "param_grid = {\n",
    "}\n",
    "NormalPred_Surprised_movies_df = getSurprisedResult(model_data=model_data,Algorithm=NormalPredictor,param_grid = param_grid  , MovieData=movie_title_df, User_id =712664 )\n",
    "print('Time taken to build NormalPredictor suprise model:', datetime.now() - start)"
   ]
  },
  {
   "cell_type": "markdown",
   "id": "f1888843",
   "metadata": {},
   "source": [
    "### The below data frame Surprised_movies_df will show top 10 recommend movies using Algorithm : NormalPredictor "
   ]
  },
  {
   "cell_type": "code",
   "execution_count": 29,
   "id": "ee97a6b7",
   "metadata": {},
   "outputs": [
    {
     "data": {
      "text/html": [
       "<div>\n",
       "<style scoped>\n",
       "    .dataframe tbody tr th:only-of-type {\n",
       "        vertical-align: middle;\n",
       "    }\n",
       "\n",
       "    .dataframe tbody tr th {\n",
       "        vertical-align: top;\n",
       "    }\n",
       "\n",
       "    .dataframe thead th {\n",
       "        text-align: right;\n",
       "    }\n",
       "</style>\n",
       "<table border=\"1\" class=\"dataframe\">\n",
       "  <thead>\n",
       "    <tr style=\"text-align: right;\">\n",
       "      <th></th>\n",
       "      <th>Name</th>\n",
       "      <th>Year</th>\n",
       "      <th>Estimate_Score</th>\n",
       "    </tr>\n",
       "  </thead>\n",
       "  <tbody>\n",
       "    <tr>\n",
       "      <th>6709</th>\n",
       "      <td>The Big Heat</td>\n",
       "      <td>1953.0</td>\n",
       "      <td>5.0</td>\n",
       "    </tr>\n",
       "    <tr>\n",
       "      <th>7830</th>\n",
       "      <td>Critters 2: The Main Course</td>\n",
       "      <td>1988.0</td>\n",
       "      <td>5.0</td>\n",
       "    </tr>\n",
       "    <tr>\n",
       "      <th>1548</th>\n",
       "      <td>Deja Vu</td>\n",
       "      <td>1997.0</td>\n",
       "      <td>5.0</td>\n",
       "    </tr>\n",
       "    <tr>\n",
       "      <th>1546</th>\n",
       "      <td>The Women</td>\n",
       "      <td>1939.0</td>\n",
       "      <td>5.0</td>\n",
       "    </tr>\n",
       "    <tr>\n",
       "      <th>1544</th>\n",
       "      <td>The Dimension Travelers</td>\n",
       "      <td>1998.0</td>\n",
       "      <td>5.0</td>\n",
       "    </tr>\n",
       "    <tr>\n",
       "      <th>12743</th>\n",
       "      <td>Who's That Knocking at My Door?</td>\n",
       "      <td>1969.0</td>\n",
       "      <td>5.0</td>\n",
       "    </tr>\n",
       "    <tr>\n",
       "      <th>1542</th>\n",
       "      <td>Nick of Time</td>\n",
       "      <td>1995.0</td>\n",
       "      <td>5.0</td>\n",
       "    </tr>\n",
       "    <tr>\n",
       "      <th>12744</th>\n",
       "      <td>River's Edge</td>\n",
       "      <td>1986.0</td>\n",
       "      <td>5.0</td>\n",
       "    </tr>\n",
       "    <tr>\n",
       "      <th>16933</th>\n",
       "      <td>The Wiggles: LIVE Hot Potatoes</td>\n",
       "      <td>2004.0</td>\n",
       "      <td>5.0</td>\n",
       "    </tr>\n",
       "    <tr>\n",
       "      <th>7838</th>\n",
       "      <td>Kiss of Fire</td>\n",
       "      <td>1998.0</td>\n",
       "      <td>5.0</td>\n",
       "    </tr>\n",
       "  </tbody>\n",
       "</table>\n",
       "</div>"
      ],
      "text/plain": [
       "                                  Name    Year  Estimate_Score\n",
       "6709                      The Big Heat  1953.0             5.0\n",
       "7830       Critters 2: The Main Course  1988.0             5.0\n",
       "1548                           Deja Vu  1997.0             5.0\n",
       "1546                         The Women  1939.0             5.0\n",
       "1544           The Dimension Travelers  1998.0             5.0\n",
       "12743  Who's That Knocking at My Door?  1969.0             5.0\n",
       "1542                      Nick of Time  1995.0             5.0\n",
       "12744                     River's Edge  1986.0             5.0\n",
       "16933   The Wiggles: LIVE Hot Potatoes  2004.0             5.0\n",
       "7838                      Kiss of Fire  1998.0             5.0"
      ]
     },
     "execution_count": 29,
     "metadata": {},
     "output_type": "execute_result"
    }
   ],
   "source": [
    "NormalPred_Surprised_movies_df.head(10)"
   ]
  },
  {
   "cell_type": "markdown",
   "id": "dd104301-da96-4de4-b9f4-fd67630b8515",
   "metadata": {},
   "source": [
    "# 3.Find what Genre Movies have received the best and worst ratings based on User Rating."
   ]
  },
  {
   "cell_type": "markdown",
   "id": "26ce9baa",
   "metadata": {},
   "source": [
    "### The below steps shows the wors rated movie details."
   ]
  },
  {
   "cell_type": "code",
   "execution_count": 30,
   "id": "3671d669-85b7-47b1-9bc0-1fe78d22317c",
   "metadata": {
    "tags": []
   },
   "outputs": [],
   "source": [
    "worst_rated_movie = netflix_df[netflix_df[\"Rating\"]==1]\n",
    "worst_rated_movie = worst_rated_movie.groupby([\"Movie_id\",\"Rating\"])[\"Rating\"].sum()\n"
   ]
  },
  {
   "cell_type": "code",
   "execution_count": 31,
   "id": "289c9430",
   "metadata": {},
   "outputs": [],
   "source": [
    "worst_rated_movie = worst_rated_movie.to_frame(name =\"Total_Rating\").reset_index()"
   ]
  },
  {
   "cell_type": "code",
   "execution_count": 32,
   "id": "063a1546",
   "metadata": {},
   "outputs": [],
   "source": [
    "worst_rated_movie = worst_rated_movie[worst_rated_movie[\"Total_Rating\"]==worst_rated_movie[\"Total_Rating\"].max()]"
   ]
  },
  {
   "cell_type": "code",
   "execution_count": 33,
   "id": "80655392",
   "metadata": {},
   "outputs": [
    {
     "data": {
      "text/html": [
       "<div>\n",
       "<style scoped>\n",
       "    .dataframe tbody tr th:only-of-type {\n",
       "        vertical-align: middle;\n",
       "    }\n",
       "\n",
       "    .dataframe tbody tr th {\n",
       "        vertical-align: top;\n",
       "    }\n",
       "\n",
       "    .dataframe thead th {\n",
       "        text-align: right;\n",
       "    }\n",
       "</style>\n",
       "<table border=\"1\" class=\"dataframe\">\n",
       "  <thead>\n",
       "    <tr style=\"text-align: right;\">\n",
       "      <th></th>\n",
       "      <th>Movie_id</th>\n",
       "      <th>Rating</th>\n",
       "      <th>Total_Rating</th>\n",
       "      <th>Year</th>\n",
       "      <th>Name</th>\n",
       "    </tr>\n",
       "  </thead>\n",
       "  <tbody>\n",
       "    <tr>\n",
       "      <th>0</th>\n",
       "      <td>3151</td>\n",
       "      <td>1</td>\n",
       "      <td>7807</td>\n",
       "      <td>2004.0</td>\n",
       "      <td>Napoleon Dynamite</td>\n",
       "    </tr>\n",
       "  </tbody>\n",
       "</table>\n",
       "</div>"
      ],
      "text/plain": [
       "   Movie_id  Rating  Total_Rating    Year               Name\n",
       "0      3151       1          7807  2004.0  Napoleon Dynamite"
      ]
     },
     "execution_count": 33,
     "metadata": {},
     "output_type": "execute_result"
    }
   ],
   "source": [
    "# worst_rating_movie.join()\n",
    "pd.merge(worst_rated_movie, movie_title_df,on=[\"Movie_id\",\"Movie_id\"])"
   ]
  },
  {
   "cell_type": "markdown",
   "id": "9cb1c98c",
   "metadata": {},
   "source": [
    "### The below steps shows the best rated movie details."
   ]
  },
  {
   "cell_type": "code",
   "execution_count": 34,
   "id": "692d08bb",
   "metadata": {},
   "outputs": [],
   "source": [
    "best_rated_movie = netflix_df[netflix_df[\"Rating\"]==5]\n",
    "best_rated_movie = best_rated_movie.groupby([\"Movie_id\",\"Rating\"])[\"Rating\"].sum()"
   ]
  },
  {
   "cell_type": "code",
   "execution_count": 35,
   "id": "a8b8fb2d",
   "metadata": {},
   "outputs": [],
   "source": [
    "best_rated_movie = best_rated_movie.to_frame(name =\"Total_Rating\").reset_index()"
   ]
  },
  {
   "cell_type": "code",
   "execution_count": 36,
   "id": "9bd01b77",
   "metadata": {},
   "outputs": [
    {
     "data": {
      "text/html": [
       "<div>\n",
       "<style scoped>\n",
       "    .dataframe tbody tr th:only-of-type {\n",
       "        vertical-align: middle;\n",
       "    }\n",
       "\n",
       "    .dataframe tbody tr th {\n",
       "        vertical-align: top;\n",
       "    }\n",
       "\n",
       "    .dataframe thead th {\n",
       "        text-align: right;\n",
       "    }\n",
       "</style>\n",
       "<table border=\"1\" class=\"dataframe\">\n",
       "  <thead>\n",
       "    <tr style=\"text-align: right;\">\n",
       "      <th></th>\n",
       "      <th>Movie_id</th>\n",
       "      <th>Rating</th>\n",
       "      <th>Total_Rating</th>\n",
       "      <th>Year</th>\n",
       "      <th>Name</th>\n",
       "    </tr>\n",
       "  </thead>\n",
       "  <tbody>\n",
       "    <tr>\n",
       "      <th>0</th>\n",
       "      <td>2452</td>\n",
       "      <td>5</td>\n",
       "      <td>322510</td>\n",
       "      <td>2001.0</td>\n",
       "      <td>Lord of the Rings: The Fellowship of the Ring</td>\n",
       "    </tr>\n",
       "  </tbody>\n",
       "</table>\n",
       "</div>"
      ],
      "text/plain": [
       "   Movie_id  Rating  Total_Rating    Year  \\\n",
       "0      2452       5        322510  2001.0   \n",
       "\n",
       "                                            Name  \n",
       "0  Lord of the Rings: The Fellowship of the Ring  "
      ]
     },
     "execution_count": 36,
     "metadata": {},
     "output_type": "execute_result"
    }
   ],
   "source": [
    "best_rated_movie = best_rated_movie[best_rated_movie[\"Total_Rating\"]==best_rated_movie[\"Total_Rating\"].max()]\n",
    "pd.merge(best_rated_movie, movie_title_df,on=[\"Movie_id\",\"Movie_id\"])"
   ]
  },
  {
   "cell_type": "markdown",
   "id": "138c347e",
   "metadata": {},
   "source": [
    "# Conclusion\n"
   ]
  },
  {
   "cell_type": "markdown",
   "id": "fec037a1",
   "metadata": {},
   "source": [
    "    I have tested mutlitple algorithms -\n",
    "        BaselineOnly\t\n",
    "        SVD\t\t\t\t\n",
    "        SVDpp\t\t\t\n",
    "        SlopeOne\t\t\n",
    "        CoClustering\t\n",
    "        NMF\t1.149467\t\n",
    "        NormalPredictor\t\n",
    "\n",
    "    In final conclusion, NormalPredictor shows the best rated movies in its recommendation."
   ]
  },
  {
   "cell_type": "markdown",
   "id": "f15e8be6",
   "metadata": {},
   "source": [
    "# References\n",
    "Intellipaat Timeseries Class on 27th July 2023 - \n"
   ]
  },
  {
   "cell_type": "markdown",
   "id": "aa203de4",
   "metadata": {},
   "source": [
    "https://colab.research.google.com/github/singhsidhukuldeep/Recommendation-System/blob/master/Building_Recommender_System_with_Surprise.ipynb#scrollTo=j8BidQh53A8g\n",
    "https://stackoverflow.com/questions/45376505/python-3-reading-a-file-within-zipped-archive-places-b-character-at-start-of\n",
    "https://stackoverflow.com/questions/11482342/read-a-large-zipped-text-file-line-by-line-in-python\n",
    "https://www.kaggle.com/code/sunyuanxi/surprise"
   ]
  }
 ],
 "metadata": {
  "kernelspec": {
   "display_name": "Python 3 (ipykernel)",
   "language": "python",
   "name": "python3"
  },
  "language_info": {
   "codemirror_mode": {
    "name": "ipython",
    "version": 3
   },
   "file_extension": ".py",
   "mimetype": "text/x-python",
   "name": "python",
   "nbconvert_exporter": "python",
   "pygments_lexer": "ipython3",
   "version": "3.11.4"
  }
 },
 "nbformat": 4,
 "nbformat_minor": 5
}
