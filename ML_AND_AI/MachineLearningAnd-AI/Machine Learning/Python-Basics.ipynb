{
 "cells": [
  {
   "attachments": {
    "image.png": {
     "image/png": "[encoded data removed]"
    }
   },
   "cell_type": "markdown",
   "id": "23fb8126",
   "metadata": {},
   "source": [
    "# Q1. Using Python script as a calculator.  Create the variables n, r, p and assign them values 10, 5, and 100 respectively. Then evaluate the following expression in the Python console.![image.png](attachment:image.png)\n",
    "    a. 100\n",
    "    b. 162.89\n",
    "    c. 189\n",
    "    d. None of the above"
   ]
  },
  {
   "cell_type": "code",
   "execution_count": 7,
   "id": "b75583a7",
   "metadata": {},
   "outputs": [
    {
     "data": {
      "text/plain": [
       "162.89"
      ]
     },
     "execution_count": 7,
     "metadata": {},
     "output_type": "execute_result"
    }
   ],
   "source": [
    "n = 10\n",
    "r = 5\n",
    "p = 100\n",
    "\n",
    "A = p * (1+r/100) ** n\n",
    "round(A,2)"
   ]
  },
  {
   "cell_type": "markdown",
   "id": "15cc56ff",
   "metadata": {},
   "source": [
    "# Answer :  b"
   ]
  },
  {
   "cell_type": "markdown",
   "id": "7d64c733",
   "metadata": {},
   "source": [
    "# Q2. In a given string format operation, how will you print the given string.\n",
    "    A = 10\n",
    "    B = 20\n",
    "    Str = \"There are {} students in the class, with {} who play at least one sport.\"\n",
    "    a. print(string.format(a,b))\n",
    "    b. print(string+a+b)\n",
    "    c. print(string.format(b,a))\n",
    "    d. None of the above "
   ]
  },
  {
   "cell_type": "code",
   "execution_count": 8,
   "id": "9e9e0775",
   "metadata": {},
   "outputs": [
    {
     "name": "stdout",
     "output_type": "stream",
     "text": [
      "There are 10 students in the class, with 20 who play at least one sport.\n"
     ]
    }
   ],
   "source": [
    "A = 10 \n",
    "B = 20 \n",
    "Str = \"There are {} students in the class, with {} who play at least one sport.\" \n",
    "print(Str.format(A,B))"
   ]
  },
  {
   "cell_type": "markdown",
   "id": "4441ccbd",
   "metadata": {},
   "source": [
    "# Answer : a "
   ]
  },
  {
   "cell_type": "markdown",
   "id": "d2045591",
   "metadata": {},
   "source": [
    "# Q3. In a given sample string, How do you print a double quoted string in between a regular string using the escape character?\n",
    "    Sample output = It goes without saying, “Time is Money”, and none can deny it.\n",
    "    a. print(“It goes without saying, \\“Time is Money\\”, and none can deny it.”)\n",
    "    b. print(“It goes without saying, \\Time is Money\\, and none can deny it.”)\n",
    "    c. print(“It goes without saying” + “Time is Money” + “and none can deny it.”)\n",
    "    d. None of the above."
   ]
  },
  {
   "cell_type": "code",
   "execution_count": 11,
   "id": "2da7b954",
   "metadata": {},
   "outputs": [
    {
     "name": "stdout",
     "output_type": "stream",
     "text": [
      "It goes without saying, \"Time is Money\", and none can deny it.\n"
     ]
    }
   ],
   "source": [
    "print(\"It goes without saying, \\\"Time is Money\\\", and none can deny it.\")"
   ]
  },
  {
   "cell_type": "markdown",
   "id": "84d6937d",
   "metadata": {},
   "source": [
    "# Answer : a"
   ]
  },
  {
   "cell_type": "markdown",
   "id": "3bebcb19",
   "metadata": {},
   "source": [
    "# Q4.What will be the output of the following code?\n",
    "    x = lambda a,b: a//b\n",
    "    x(10,3)\n",
    "        a. 3.3333333333\n",
    "        b. 3\n",
    "        c. 30\n",
    "        d. 1000"
   ]
  },
  {
   "cell_type": "code",
   "execution_count": 17,
   "id": "1de2d6f5",
   "metadata": {},
   "outputs": [
    {
     "data": {
      "text/plain": [
       "3"
      ]
     },
     "execution_count": 17,
     "metadata": {},
     "output_type": "execute_result"
    }
   ],
   "source": [
    "x = lambda a,b: a//b \n",
    "x(10,3) "
   ]
  },
  {
   "cell_type": "markdown",
   "id": "a3ce4f12",
   "metadata": {},
   "source": [
    "# Answer : b"
   ]
  },
  {
   "cell_type": "markdown",
   "id": "c4fdbf40",
   "metadata": {},
   "source": [
    "# Q5. What will be the output of the following code?\n",
    "    A = 10\n",
    "    B = 12\n",
    "    print(\"Smaller\") if A == B else print(\"Greater\") if A < B else print(\"True\")\n",
    "        a. True\n",
    "        b. Smaller\n",
    "        c. Greater\n",
    "        d. None of the above"
   ]
  },
  {
   "cell_type": "code",
   "execution_count": 12,
   "id": "1ea18dd2",
   "metadata": {},
   "outputs": [
    {
     "name": "stdout",
     "output_type": "stream",
     "text": [
      "Greater\n"
     ]
    }
   ],
   "source": [
    "A = 10 \n",
    "B = 12 \n",
    "print(\"Smaller\") if A == B else print(\"Greater\") if A < B else print(\"True\")"
   ]
  },
  {
   "cell_type": "markdown",
   "id": "8b6ad088",
   "metadata": {},
   "source": [
    "# Answer : c"
   ]
  },
  {
   "attachments": {
    "image.png": {
     "image/png": "[encoded data removed]"
    }
   },
   "cell_type": "markdown",
   "id": "4f3fa757",
   "metadata": {},
   "source": [
    "# Q6. What will be the output of the following code?![image.png](attachment:image.png)\n",
    "    a. [2 7 3 5 4 6]\n",
    "    b. TypeError\n",
    "    c. NameError: name 'numpy' is not defined\n",
    "    d. None of the above"
   ]
  },
  {
   "cell_type": "code",
   "execution_count": 24,
   "id": "fcde0d1b",
   "metadata": {},
   "outputs": [
    {
     "name": "stdout",
     "output_type": "stream",
     "text": [
      "[2, 7, 3, 5, 4, 6]\n"
     ]
    },
    {
     "ename": "NameError",
     "evalue": "name 'numpy' is not defined",
     "output_type": "error",
     "traceback": [
      "\u001b[1;31m---------------------------------------------------------------------------\u001b[0m",
      "\u001b[1;31mNameError\u001b[0m                                 Traceback (most recent call last)",
      "Cell \u001b[1;32mIn[24], line 5\u001b[0m\n\u001b[0;32m      3\u001b[0m my_list1 \u001b[38;5;241m=\u001b[39m [\u001b[38;5;241m2\u001b[39m,\u001b[38;5;241m7\u001b[39m,\u001b[38;5;241m3\u001b[39m,\u001b[38;5;241m5\u001b[39m,\u001b[38;5;241m4\u001b[39m,\u001b[38;5;241m6\u001b[39m]\n\u001b[0;32m      4\u001b[0m \u001b[38;5;28mprint\u001b[39m(my_list1)\n\u001b[1;32m----> 5\u001b[0m arr_1 \u001b[38;5;241m=\u001b[39m \u001b[43mnumpy\u001b[49m\u001b[38;5;241m.\u001b[39marray(my_list1, dtype \u001b[38;5;241m=\u001b[39m \u001b[38;5;28mint\u001b[39m)\n\u001b[0;32m      6\u001b[0m \u001b[38;5;28mprint\u001b[39m(arr_1)\n",
      "\u001b[1;31mNameError\u001b[0m: name 'numpy' is not defined"
     ]
    }
   ],
   "source": [
    "import os\n",
    "import numpy as np\n",
    "my_list1 = [2,7,3,5,4,6]\n",
    "print(my_list1)\n",
    "arr_1 = numpy.array(my_list1, dtype = int)\n",
    "print(arr_1)"
   ]
  },
  {
   "cell_type": "markdown",
   "id": "6218492e",
   "metadata": {},
   "source": [
    "# Answer : c"
   ]
  },
  {
   "cell_type": "markdown",
   "id": "cce5f00a",
   "metadata": {},
   "source": [
    "# Q7. Create a string called ‘string’ with the value as “Machine Learning”. Which code(s)is/are appropriate to slice the substring “Learn”?\n",
    "    a. string[slice(13,8,1)]\n",
    "    b. string[slice(1,8,1)]\n",
    "    c. string[8:14]\n",
    "    d. string[slice(8,13,1)]"
   ]
  },
  {
   "cell_type": "code",
   "execution_count": 13,
   "id": "cd0e14c0",
   "metadata": {},
   "outputs": [
    {
     "data": {
      "text/plain": [
       "'Learn'"
      ]
     },
     "execution_count": 13,
     "metadata": {},
     "output_type": "execute_result"
    }
   ],
   "source": [
    "string = \"Machine Learning\"\n",
    "string[slice(8,13,1)]"
   ]
  },
  {
   "cell_type": "markdown",
   "id": "dc181096",
   "metadata": {},
   "source": [
    "# Answer : d"
   ]
  },
  {
   "cell_type": "markdown",
   "id": "8aa03215",
   "metadata": {},
   "source": [
    "# Q8. Create a sequence of numbers from 10 to 25 and increment by 4. What is the index of the value 18?\n",
    "    a. 3\n",
    "    b. 2\n",
    "    c. 0\n",
    "    d. 1"
   ]
  },
  {
   "cell_type": "code",
   "execution_count": 14,
   "id": "d96e8385",
   "metadata": {},
   "outputs": [
    {
     "data": {
      "text/plain": [
       "18"
      ]
     },
     "execution_count": 14,
     "metadata": {},
     "output_type": "execute_result"
    }
   ],
   "source": [
    "a = [i for i in range(10,26,4)]\n",
    "a[2]"
   ]
  },
  {
   "cell_type": "markdown",
   "id": "52b112ed",
   "metadata": {},
   "source": [
    "# Answer : b"
   ]
  },
  {
   "attachments": {
    "image.png": {
     "image/png": "[encoded data removed]"
    }
   },
   "cell_type": "markdown",
   "id": "4e1d91eb",
   "metadata": {},
   "source": [
    "# Q9. Which of the following is true with respect to the below codes?![image.png](attachment:image.png)\n",
    "    a. num1 = num2\n",
    "    b. num1 ≠ num2\n",
    "    c. num1 < num2\n",
    "    d. num1 > num2"
   ]
  },
  {
   "cell_type": "code",
   "execution_count": 15,
   "id": "72140a4d",
   "metadata": {},
   "outputs": [
    {
     "name": "stdout",
     "output_type": "stream",
     "text": [
      "625 625\n",
      "True\n"
     ]
    }
   ],
   "source": [
    "num1 = 5**4\n",
    "num2 = pow(5,4)\n",
    "print(num1,num2)\n",
    "print(num1 == num2)"
   ]
  },
  {
   "cell_type": "markdown",
   "id": "dfb7de92",
   "metadata": {},
   "source": [
    "# Answer : a"
   ]
  },
  {
   "cell_type": "markdown",
   "id": "0da0d4c2",
   "metadata": {},
   "source": [
    "# Q10.A Python NameError exception is raised when: -\n",
    "    a. Trying to access a variable which has not been defined\n",
    "    b. Trying to access a key in a dictionary that does not exist\n",
    "    c. Accessing a column with misspelled column name\n",
    "    d. Accessing the function from a module that has not been imported"
   ]
  },
  {
   "cell_type": "markdown",
   "id": "9f06d6cb",
   "metadata": {},
   "source": [
    "# Answer : a"
   ]
  },
  {
   "attachments": {
    "image.png": {
     "image/png": "[encoded data removed]"
    }
   },
   "cell_type": "markdown",
   "id": "bdc57cd4",
   "metadata": {},
   "source": [
    "# Q11.What type of exception will be raised for the code given below?![image.png](attachment:image.png)\n",
    "    a. NameError\n",
    "    b. KeyError\n",
    "    c. ValueError\n",
    "    d. AttributeError"
   ]
  },
  {
   "cell_type": "code",
   "execution_count": 16,
   "id": "87b6a958",
   "metadata": {},
   "outputs": [
    {
     "ename": "ValueError",
     "evalue": "invalid literal for int() with base 10: 'string'",
     "output_type": "error",
     "traceback": [
      "\u001b[1;31m---------------------------------------------------------------------------\u001b[0m",
      "\u001b[1;31mValueError\u001b[0m                                Traceback (most recent call last)",
      "Cell \u001b[1;32mIn[16], line 2\u001b[0m\n\u001b[0;32m      1\u001b[0m x \u001b[38;5;241m=\u001b[39m \u001b[38;5;124m\"\u001b[39m\u001b[38;5;124mstring\u001b[39m\u001b[38;5;124m\"\u001b[39m\n\u001b[1;32m----> 2\u001b[0m \u001b[38;5;28mint\u001b[39m(x)\n",
      "\u001b[1;31mValueError\u001b[0m: invalid literal for int() with base 10: 'string'"
     ]
    }
   ],
   "source": [
    "x = \"string\"\n",
    "int(x)"
   ]
  },
  {
   "cell_type": "markdown",
   "id": "86530404",
   "metadata": {},
   "source": [
    "# Answer : c"
   ]
  },
  {
   "cell_type": "markdown",
   "id": "c44349fa",
   "metadata": {},
   "source": [
    "# Q12.A FileNotFoundError exception is raised by operating system errors when: -\n",
    "    a. Trying to create a file or directory which already exists\n",
    "    b. A file or directory is requested but does not exist in the working directory\n",
    "    c. Trying to run an operation without the adequate access rights\n",
    "    d. A directory operation, os.listdir() is requested on something which is not a directory"
   ]
  },
  {
   "cell_type": "code",
   "execution_count": 17,
   "id": "e3845d4f",
   "metadata": {},
   "outputs": [
    {
     "ename": "FileNotFoundError",
     "evalue": "[Errno 2] No such file or directory: 'demofile.txt'",
     "output_type": "error",
     "traceback": [
      "\u001b[1;31m---------------------------------------------------------------------------\u001b[0m",
      "\u001b[1;31mFileNotFoundError\u001b[0m                         Traceback (most recent call last)",
      "Cell \u001b[1;32mIn[17], line 1\u001b[0m\n\u001b[1;32m----> 1\u001b[0m f \u001b[38;5;241m=\u001b[39m \u001b[38;5;28mopen\u001b[39m(\u001b[38;5;124m\"\u001b[39m\u001b[38;5;124mdemofile.txt\u001b[39m\u001b[38;5;124m\"\u001b[39m, \u001b[38;5;124m\"\u001b[39m\u001b[38;5;124mr\u001b[39m\u001b[38;5;124m\"\u001b[39m)\n\u001b[0;32m      2\u001b[0m \u001b[38;5;28mprint\u001b[39m(f\u001b[38;5;241m.\u001b[39mread())\n",
      "File \u001b[1;32m~\\anaconda3\\Lib\\site-packages\\IPython\\core\\interactiveshell.py:284\u001b[0m, in \u001b[0;36m_modified_open\u001b[1;34m(file, *args, **kwargs)\u001b[0m\n\u001b[0;32m    277\u001b[0m \u001b[38;5;28;01mif\u001b[39;00m file \u001b[38;5;129;01min\u001b[39;00m {\u001b[38;5;241m0\u001b[39m, \u001b[38;5;241m1\u001b[39m, \u001b[38;5;241m2\u001b[39m}:\n\u001b[0;32m    278\u001b[0m     \u001b[38;5;28;01mraise\u001b[39;00m \u001b[38;5;167;01mValueError\u001b[39;00m(\n\u001b[0;32m    279\u001b[0m         \u001b[38;5;124mf\u001b[39m\u001b[38;5;124m\"\u001b[39m\u001b[38;5;124mIPython won\u001b[39m\u001b[38;5;124m'\u001b[39m\u001b[38;5;124mt let you open fd=\u001b[39m\u001b[38;5;132;01m{\u001b[39;00mfile\u001b[38;5;132;01m}\u001b[39;00m\u001b[38;5;124m by default \u001b[39m\u001b[38;5;124m\"\u001b[39m\n\u001b[0;32m    280\u001b[0m         \u001b[38;5;124m\"\u001b[39m\u001b[38;5;124mas it is likely to crash IPython. If you know what you are doing, \u001b[39m\u001b[38;5;124m\"\u001b[39m\n\u001b[0;32m    281\u001b[0m         \u001b[38;5;124m\"\u001b[39m\u001b[38;5;124myou can use builtins\u001b[39m\u001b[38;5;124m'\u001b[39m\u001b[38;5;124m open.\u001b[39m\u001b[38;5;124m\"\u001b[39m\n\u001b[0;32m    282\u001b[0m     )\n\u001b[1;32m--> 284\u001b[0m \u001b[38;5;28;01mreturn\u001b[39;00m io_open(file, \u001b[38;5;241m*\u001b[39margs, \u001b[38;5;241m*\u001b[39m\u001b[38;5;241m*\u001b[39mkwargs)\n",
      "\u001b[1;31mFileNotFoundError\u001b[0m: [Errno 2] No such file or directory: 'demofile.txt'"
     ]
    }
   ],
   "source": [
    "f = open(\"demofile.txt\", \"r\")\n",
    "print(f.read())"
   ]
  },
  {
   "cell_type": "markdown",
   "id": "1d6ae16f",
   "metadata": {},
   "source": [
    "# Answer :  b"
   ]
  },
  {
   "cell_type": "markdown",
   "id": "78b496b3",
   "metadata": {},
   "source": [
    "# Q13.Consider a variable Z. The value of Z is \"ID-5632\". Data type of Z is: -\n",
    "    a. Complex\n",
    "    b. Character\n",
    "    c. Integer\n",
    "    d. Boolean"
   ]
  },
  {
   "cell_type": "markdown",
   "id": "00ce0f55",
   "metadata": {},
   "source": [
    "# Answer :  b"
   ]
  },
  {
   "cell_type": "markdown",
   "id": "98d9f3c5",
   "metadata": {},
   "source": [
    "# Q14.Which of the following variable(s) are character data type?\n",
    "    a. K= “4”\n",
    "    b. J= “Welcome”\n",
    "    c. L= “?”\n",
    "    d. All of the above"
   ]
  },
  {
   "cell_type": "code",
   "execution_count": 19,
   "id": "754f5a73",
   "metadata": {},
   "outputs": [
    {
     "data": {
      "text/plain": [
       "(str, str, str)"
      ]
     },
     "execution_count": 19,
     "metadata": {},
     "output_type": "execute_result"
    }
   ],
   "source": [
    "k =\"?\"\n",
    "J= \"Welcome\"\n",
    "L= \"?\"\n",
    "type(k),type(J),type(L)"
   ]
  },
  {
   "cell_type": "markdown",
   "id": "bdfa5894",
   "metadata": {},
   "source": [
    "# Answer : d"
   ]
  },
  {
   "cell_type": "markdown",
   "id": "afd32764",
   "metadata": {},
   "source": [
    "# Q15.Choose the symbol/s that does not have the ability to convert any values to string?\n",
    "    a. ( )\n",
    "    b. “ ”\n",
    "    c. {}\n",
    "    d. #"
   ]
  },
  {
   "cell_type": "markdown",
   "id": "ca026345",
   "metadata": {},
   "source": [
    "# Answer : a"
   ]
  },
  {
   "attachments": {
    "image.png": {
     "image/png": "[encoded data removed]"
    }
   },
   "cell_type": "markdown",
   "id": "bba88957",
   "metadata": {},
   "source": [
    "# Q16.Create a dictionary ‘Country’ that maps the following countries to their capitals respectively:![image.png](attachment:image.png)\n",
    "    Find 2 commands to replace “Marseilles” with “Paris” is:"
   ]
  },
  {
   "cell_type": "markdown",
   "id": "4a0195b2",
   "metadata": {},
   "source": [
    "# Answer :"
   ]
  },
  {
   "cell_type": "code",
   "execution_count": 20,
   "id": "47fd9e9d",
   "metadata": {},
   "outputs": [
    {
     "data": {
      "text/plain": [
       "{'India': 'Delhi',\n",
       " 'China': 'Beijing',\n",
       " 'Japan': 'Tokyo',\n",
       " 'Qatar': 'Doha',\n",
       " 'France': 'Paris'}"
      ]
     },
     "execution_count": 20,
     "metadata": {},
     "output_type": "execute_result"
    }
   ],
   "source": [
    "Country = {\"India\":\"Delhi\",\"China\":\"Beijing\",\"Japan\":\"Tokyo\", \"Qatar\":\"Doha\", \"France\":\"Marseilles\"}\n",
    "Country[\"France\"]=\"Paris\"\n",
    "Country"
   ]
  },
  {
   "cell_type": "markdown",
   "id": "f6711903",
   "metadata": {},
   "source": [
    "# Q17. Create the tuples given below\n",
    "    tuple_1 = (1,5,6,7,8)\n",
    "    tuple_2 = (8,9,4)\n",
    "    Identify which of the following code does not work on a tuple.\n",
    "    a. sum(tuple_1)\n",
    "    b. len(tuple_2)\n",
    "    c. tuple_2 + tuple_1\n",
    "    d. tuple_1[3] = 45"
   ]
  },
  {
   "cell_type": "code",
   "execution_count": 77,
   "id": "1488b9c2",
   "metadata": {},
   "outputs": [
    {
     "ename": "TypeError",
     "evalue": "'tuple' object does not support item assignment",
     "output_type": "error",
     "traceback": [
      "\u001b[1;31m---------------------------------------------------------------------------\u001b[0m",
      "\u001b[1;31mTypeError\u001b[0m                                 Traceback (most recent call last)",
      "Cell \u001b[1;32mIn[77], line 6\u001b[0m\n\u001b[0;32m      4\u001b[0m \u001b[38;5;28mlen\u001b[39m(tuple_2)\n\u001b[0;32m      5\u001b[0m tuple_2 \u001b[38;5;241m+\u001b[39m tuple_1\n\u001b[1;32m----> 6\u001b[0m \u001b[43mtuple_1\u001b[49m\u001b[43m[\u001b[49m\u001b[38;5;241;43m3\u001b[39;49m\u001b[43m]\u001b[49m \u001b[38;5;241m=\u001b[39m \u001b[38;5;241m45\u001b[39m\n",
      "\u001b[1;31mTypeError\u001b[0m: 'tuple' object does not support item assignment"
     ]
    }
   ],
   "source": [
    "tuple_1 = (1,5,6,7,8)\n",
    "tuple_2 = (8,9,4)\n",
    "sum(tuple_1)\n",
    "len(tuple_2)\n",
    "tuple_2 + tuple_1\n",
    "tuple_1[3] = 45"
   ]
  },
  {
   "cell_type": "markdown",
   "id": "2afd9fbb",
   "metadata": {},
   "source": [
    "# Answer : d"
   ]
  },
  {
   "attachments": {
    "image.png": {
     "image/png": "[encoded data removed]"
    }
   },
   "cell_type": "markdown",
   "id": "3f3cfcfb",
   "metadata": {},
   "source": [
    "# Q18. How many elements in the following data structure?![image.png](attachment:image.png)"
   ]
  },
  {
   "cell_type": "code",
   "execution_count": 21,
   "id": "600cfe1f",
   "metadata": {},
   "outputs": [
    {
     "data": {
      "text/plain": [
       "6"
      ]
     },
     "execution_count": 21,
     "metadata": {},
     "output_type": "execute_result"
    }
   ],
   "source": [
    "s={1,2,3,4,4,4,5,6}\n",
    "len(s)"
   ]
  },
  {
   "cell_type": "markdown",
   "id": "f21ac0dc",
   "metadata": {},
   "source": [
    "# Answer :\n",
    "    6"
   ]
  },
  {
   "cell_type": "markdown",
   "id": "498b759a",
   "metadata": {},
   "source": [
    "# Q19.Write a function which finds all pythagorean triplets of triangles whose sides are no greater than a natural number N."
   ]
  },
  {
   "cell_type": "code",
   "execution_count": 22,
   "id": "986fbc1f",
   "metadata": {},
   "outputs": [
    {
     "name": "stdout",
     "output_type": "stream",
     "text": [
      "3 4 5\n",
      "8 6 10\n",
      "5 12 13\n",
      "15 8 17\n",
      "12 16 20\n"
     ]
    }
   ],
   "source": [
    "def pythagoreanTriplets(limits) :\n",
    "    c, m = 0, 2\n",
    " \n",
    "    # Limiting c would limit\n",
    "    # all a, b and c\n",
    "    while c < limits :\n",
    "         \n",
    "        # Now loop on n from 1 to m-1\n",
    "        for n in range(1, m) :\n",
    "            a = m * m - n * n\n",
    "            b = 2 * m * n\n",
    "            c = m * m + n * n\n",
    " \n",
    "            # if c is greater than\n",
    "            # limit then break it\n",
    "            if c > limits :\n",
    "                break\n",
    " \n",
    "            print(a, b, c)\n",
    " \n",
    "        m = m + 1\n",
    " \n",
    " \n",
    "     \n",
    "limit = 20\n",
    "pythagoreanTriplets(limit)"
   ]
  },
  {
   "cell_type": "code",
   "execution_count": null,
   "id": "c7a6b689",
   "metadata": {},
   "outputs": [],
   "source": []
  },
  {
   "cell_type": "code",
   "execution_count": null,
   "id": "3e82f9dd",
   "metadata": {},
   "outputs": [],
   "source": []
  }
 ],
 "metadata": {
  "kernelspec": {
   "display_name": "Python 3 (ipykernel)",
   "language": "python",
   "name": "python3"
  },
  "language_info": {
   "codemirror_mode": {
    "name": "ipython",
    "version": 3
   },
   "file_extension": ".py",
   "mimetype": "text/x-python",
   "name": "python",
   "nbconvert_exporter": "python",
   "pygments_lexer": "ipython3",
   "version": "3.11.4"
  }
 },
 "nbformat": 4,
 "nbformat_minor": 5
}
